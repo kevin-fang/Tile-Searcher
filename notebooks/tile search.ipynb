{
 "cells": [
  {
   "cell_type": "code",
   "execution_count": 1,
   "metadata": {
    "collapsed": true
   },
   "outputs": [],
   "source": [
    "dimport application, getTileVariants"
   ]
  },
  {
   "cell_type": "code",
   "execution_count": 4,
   "metadata": {
    "collapsed": true
   },
   "outputs": [],
   "source": [
    "tile = application.Tile(12099719)"
   ]
  },
  {
   "cell_type": "code",
   "execution_count": 5,
   "metadata": {
    "scrolled": true
   },
   "outputs": [
    {
     "name": "stdout",
     "output_type": "stream",
     "text": [
      "Tile 12099719 information:\n",
      "hg19:chr9:01c4\t91424\t96791024\t15\t16\n",
      "Path: 01c4\n",
      "Step: 0369\n",
      "Phase: 0x1\n",
      "\n",
      "0368\t 136139786\n",
      "0369\t 136140011\n",
      "\n",
      "01c4.00.0369.000+1,60fe6d1a287c91939b151001adfdeada      ttcactgttcggggccactagcaacaaagcttctgtaaacactcatgtgcaggtatttgt\n",
      "01c4.00.0369.001+1,7214c84c18b994abdd0dbf6a176a7407      ttcactgttcggggccactagcaacaaagcttctgtaaacactcatgtgcaggtatttgt\n",
      "01c4.00.0369.002+1,34c37138df011524d54aec04d3f2d723      ttcactgttcggggccactagcaacaaagcttctgtaaacactcatgtgcaggtatttgt\n",
      "01c4.00.0369.003+1,bc42c6d168b007e5278f4308fd4db955      ttcactgttcggggccactagcaacaaagcttctgtaaacactcatgtgcaggtatttgt\n",
      "01c4.00.0369.004+1,dbac4cca74cdfeecc02209020cf2529b      ttcactgttcggggccactagcaacaaagcttctgtaaacactcatgtgcaggtatttgt\n",
      "01c4.00.0369.005+2,10bbbac9978c3fa024c501b33bd66c1e      ttcactgttcggggccactagcaacaaagcttctgtaaacactcatgtgcaggtatttgt\n",
      "                                                         ************************************************************\n",
      "\n",
      "\n",
      "01c4.00.0369.000+1,60fe6d1a287c91939b151001adfdeada      ggacctgtgttttcatttcccttgagtaaataccaaggaatggaaaagatgggtcatatg\n",
      "01c4.00.0369.001+1,7214c84c18b994abdd0dbf6a176a7407      ggacctgtgttttcatttcccttgagtaaataccaaggaatggaaaagatgggtcatatg\n",
      "01c4.00.0369.002+1,34c37138df011524d54aec04d3f2d723      ggacctgtgttttcatttcccttgagtaaataccaaggaatggaaaagatgggtcatatg\n",
      "01c4.00.0369.003+1,bc42c6d168b007e5278f4308fd4db955      ggacctgtgtcttcatttcccttgagtaaataccaaggaatggaaaagatgggtcatatg\n",
      "01c4.00.0369.004+1,dbac4cca74cdfeecc02209020cf2529b      ggacctgtgtcttcatttcccttgagtaaataccaaggaatggaaaagatgggtcatatg\n",
      "01c4.00.0369.005+2,10bbbac9978c3fa024c501b33bd66c1e      ggacctgtgttttcatttcccttgagtaaataccaaggaatggaaaagatgggtcatatg\n",
      "                                                         ********** *************************************************\n",
      "\n",
      "\n",
      "01c4.00.0369.000+1,60fe6d1a287c91939b151001adfdeada      gtaagtgtatgtttaactttgtaagaaactgccaaactgtgttccaaagtggtgactgaa\n",
      "01c4.00.0369.001+1,7214c84c18b994abdd0dbf6a176a7407      gtaagtgtatgtttaactttgtaagaa--------actgtgttccaaagtggtgactgaa\n",
      "01c4.00.0369.002+1,34c37138df011524d54aec04d3f2d723      gtaagtgtatgtttaactttgtaagaaactgccaaactgtgttccaaagtggtgactgaa\n",
      "01c4.00.0369.003+1,bc42c6d168b007e5278f4308fd4db955      gtaagtgtatgtttaactttgtaagaaactgccaaactgtgttccaaagtggtgactgaa\n",
      "01c4.00.0369.004+1,dbac4cca74cdfeecc02209020cf2529b      gtaagtgtatgtttaactttgtaagaa--------actgtgttccaaagtggtgactgaa\n",
      "01c4.00.0369.005+2,10bbbac9978c3fa024c501b33bd66c1e      gtaagtgtatgtttaactttgtaagaa--------actgtgttccaaagtggtgactgaa\n",
      "                                                         ***************************        *************************\n",
      "\n",
      "\n",
      "01c4.00.0369.000+1,60fe6d1a287c91939b151001adfdeada      ttttccattcccgccaggaatgtacgagaaccacagtccttgccaacacttgatggtcac\n",
      "01c4.00.0369.001+1,7214c84c18b994abdd0dbf6a176a7407      ttttccattcccgccaggaatgtacgagaaccacagtccttgccaacacttgatggtcac\n",
      "01c4.00.0369.002+1,34c37138df011524d54aec04d3f2d723      ttttccattcccaccaggaatgtacgagaaccacagtccttgccaacacttgatggtcac\n",
      "01c4.00.0369.003+1,bc42c6d168b007e5278f4308fd4db955      ttttccattcccgccaggaatgtacgagaaccacagtccttgccaacacttgatggtcac\n",
      "01c4.00.0369.004+1,dbac4cca74cdfeecc02209020cf2529b      ttttccattcccgccaggaatgtacgagaaccacagtccttgccaacacttgatggtcac\n",
      "01c4.00.0369.005+2,10bbbac9978c3fa024c501b33bd66c1e      ttttccattcccgccaggaatgtacgagaaccacagtccttgccaacacttgatggtcac\n",
      "                                                         ************ ***********************************************\n",
      "\n",
      "\n",
      "01c4.00.0369.000+1,60fe6d1a287c91939b151001adfdeada      tcttttatc---------------------------------------------------\n",
      "01c4.00.0369.001+1,7214c84c18b994abdd0dbf6a176a7407      tcttttatc---------------------------------------------------\n",
      "01c4.00.0369.002+1,34c37138df011524d54aec04d3f2d723      tcttttatc---------------------------------------------------\n",
      "01c4.00.0369.003+1,bc42c6d168b007e5278f4308fd4db955      tcttttatc---------------------------------------------------\n",
      "01c4.00.0369.004+1,dbac4cca74cdfeecc02209020cf2529b      tcttttatc---------------------------------------------------\n",
      "01c4.00.0369.005+2,10bbbac9978c3fa024c501b33bd66c1e      tctttttatcctttagccatgctagtggatgaggagtggtatctaagtgtgtccaatgac\n",
      "                                                         ******                                                      \n",
      "\n",
      "\n",
      "01c4.00.0369.000+1,60fe6d1a287c91939b151001adfdeada      ------------------------------------------------------------\n",
      "01c4.00.0369.001+1,7214c84c18b994abdd0dbf6a176a7407      ------------------------------------------------------------\n",
      "01c4.00.0369.002+1,34c37138df011524d54aec04d3f2d723      ------------------------------------------------------------\n",
      "01c4.00.0369.003+1,bc42c6d168b007e5278f4308fd4db955      ------------------------------------------------------------\n",
      "01c4.00.0369.004+1,dbac4cca74cdfeecc02209020cf2529b      ------------------------------------------------------------\n",
      "01c4.00.0369.005+2,10bbbac9978c3fa024c501b33bd66c1e      taaggaggtaaatcatcttttcatgtatttattggccatttgcttgcttcttatgaagcc\n",
      "                                                                                                                     \n",
      "\n",
      "\n",
      "01c4.00.0369.000+1,60fe6d1a287c91939b151001adfdeada      ------------------------------------------------------------\n",
      "01c4.00.0369.001+1,7214c84c18b994abdd0dbf6a176a7407      ------------------------------------------------------------\n",
      "01c4.00.0369.002+1,34c37138df011524d54aec04d3f2d723      ------------------------------------------------------------\n",
      "01c4.00.0369.003+1,bc42c6d168b007e5278f4308fd4db955      ------------------------------------------------------------\n",
      "01c4.00.0369.004+1,dbac4cca74cdfeecc02209020cf2529b      ------------------------------------------------------------\n",
      "01c4.00.0369.005+2,10bbbac9978c3fa024c501b33bd66c1e      tgtccagatctttagctcattttattatttatttatttatttatttacttatatatattt\n",
      "                                                                                                                     \n",
      "\n",
      "\n",
      "01c4.00.0369.000+1,60fe6d1a287c91939b151001adfdeada      ------------------------------------------------------------\n",
      "01c4.00.0369.001+1,7214c84c18b994abdd0dbf6a176a7407      ------------------------------------------------------------\n",
      "01c4.00.0369.002+1,34c37138df011524d54aec04d3f2d723      ------------------------------------------------------------\n",
      "01c4.00.0369.003+1,bc42c6d168b007e5278f4308fd4db955      ------------------------------------------------------------\n",
      "01c4.00.0369.004+1,dbac4cca74cdfeecc02209020cf2529b      ------------------------------------------------------------\n",
      "01c4.00.0369.005+2,10bbbac9978c3fa024c501b33bd66c1e      ttggggggcacagtcccactccagttgcccaggctggagtgtggtggcatgatcatggct\n",
      "                                                                                                                     \n",
      "\n",
      "\n",
      "01c4.00.0369.000+1,60fe6d1a287c91939b151001adfdeada      ------------------------------------------------------------\n",
      "01c4.00.0369.001+1,7214c84c18b994abdd0dbf6a176a7407      ------------------------------------------------------------\n",
      "01c4.00.0369.002+1,34c37138df011524d54aec04d3f2d723      ------------------------------------------------------------\n",
      "01c4.00.0369.003+1,bc42c6d168b007e5278f4308fd4db955      ------------------------------------------------------------\n",
      "01c4.00.0369.004+1,dbac4cca74cdfeecc02209020cf2529b      ------------------------------------------------------------\n",
      "01c4.00.0369.005+2,10bbbac9978c3fa024c501b33bd66c1e      cactacagcctcgacttcctgggctcaggtgatcctcccacctcagccttttgagtagct\n",
      "                                                                                                                     \n",
      "\n",
      "\n",
      "01c4.00.0369.000+1,60fe6d1a287c91939b151001adfdeada      ------------------------------------------------------------\n",
      "01c4.00.0369.001+1,7214c84c18b994abdd0dbf6a176a7407      ------------------------------------------------------------\n",
      "01c4.00.0369.002+1,34c37138df011524d54aec04d3f2d723      ------------------------------------------------------------\n",
      "01c4.00.0369.003+1,bc42c6d168b007e5278f4308fd4db955      ------------------------------------------------------------\n",
      "01c4.00.0369.004+1,dbac4cca74cdfeecc02209020cf2529b      ------------------------------------------------------------\n",
      "01c4.00.0369.005+2,10bbbac9978c3fa024c501b33bd66c1e      gagactataggcatgcaccacatctagctgattttttgtggttttggtagagatggggtt\n",
      "                                                                                                                     \n",
      "\n",
      "\n",
      "01c4.00.0369.000+1,60fe6d1a287c91939b151001adfdeada      ------------------------------------------------------------\n",
      "01c4.00.0369.001+1,7214c84c18b994abdd0dbf6a176a7407      ------------------------------------------------------------\n",
      "01c4.00.0369.002+1,34c37138df011524d54aec04d3f2d723      ------------------------------------------------------------\n",
      "01c4.00.0369.003+1,bc42c6d168b007e5278f4308fd4db955      ------------------------------------------------------------\n",
      "01c4.00.0369.004+1,dbac4cca74cdfeecc02209020cf2529b      ------------------------------------------------------------\n",
      "01c4.00.0369.005+2,10bbbac9978c3fa024c501b33bd66c1e      tcaccatgttgcccaggctggtcttgaactcctgggcttaagcaatccacctgcctcagc\n",
      "                                                                                                                     \n",
      "\n",
      "\n",
      "01c4.00.0369.000+1,60fe6d1a287c91939b151001adfdeada      ------------------------------------------------------------\n",
      "01c4.00.0369.001+1,7214c84c18b994abdd0dbf6a176a7407      ------------------------------------------------------------\n",
      "01c4.00.0369.002+1,34c37138df011524d54aec04d3f2d723      ------------------------------------------------------------\n",
      "01c4.00.0369.003+1,bc42c6d168b007e5278f4308fd4db955      ------------------------------------------------------------\n",
      "01c4.00.0369.004+1,dbac4cca74cdfeecc02209020cf2529b      ------------------------------------------------------------\n",
      "01c4.00.0369.005+2,10bbbac9978c3fa024c501b33bd66c1e      ctcccaatgtgctgggattacaggcataagccacctcacctggccctctatttttatttt\n",
      "                                                                                                                     \n",
      "\n",
      "\n",
      "01c4.00.0369.000+1,60fe6d1a287c91939b151001adfdeada      ------------------------------------------------------------\n",
      "01c4.00.0369.001+1,7214c84c18b994abdd0dbf6a176a7407      ------------------------------------------------------------\n",
      "01c4.00.0369.002+1,34c37138df011524d54aec04d3f2d723      ------------------------------------------------------------\n",
      "01c4.00.0369.003+1,bc42c6d168b007e5278f4308fd4db955      ------------------------------------------------------------\n",
      "01c4.00.0369.004+1,dbac4cca74cdfeecc02209020cf2529b      ------------------------------------------------------------\n",
      "01c4.00.0369.005+2,10bbbac9978c3fa024c501b33bd66c1e      ttttagacaggatcttactctgtcacccaggctggagtgcagtggcacgatcacagctcg\n",
      "                                                                                                                     \n",
      "\n",
      "\n",
      "01c4.00.0369.000+1,60fe6d1a287c91939b151001adfdeada      ------------------------------------------------------------\n",
      "01c4.00.0369.001+1,7214c84c18b994abdd0dbf6a176a7407      ------------------------------------------------------------\n",
      "01c4.00.0369.002+1,34c37138df011524d54aec04d3f2d723      ------------------------------------------------------------\n",
      "01c4.00.0369.003+1,bc42c6d168b007e5278f4308fd4db955      ------------------------------------------------------------\n",
      "01c4.00.0369.004+1,dbac4cca74cdfeecc02209020cf2529b      ------------------------------------------------------------\n",
      "01c4.00.0369.005+2,10bbbac9978c3fa024c501b33bd66c1e      ctgcaacctcgaactcctgagcttaagtgatctttccccctcagcctcctgattaggtgg\n",
      "                                                                                                                     \n",
      "\n",
      "\n",
      "01c4.00.0369.000+1,60fe6d1a287c91939b151001adfdeada      --------------------------------------------------------\n",
      "01c4.00.0369.001+1,7214c84c18b994abdd0dbf6a176a7407      --------------------------------------------------------\n",
      "01c4.00.0369.002+1,34c37138df011524d54aec04d3f2d723      --------------------------------------------------------\n",
      "01c4.00.0369.003+1,bc42c6d168b007e5278f4308fd4db955      --------------------------------------------------------\n",
      "01c4.00.0369.004+1,dbac4cca74cdfeecc02209020cf2529b      --------------------------------------------------------\n",
      "01c4.00.0369.005+2,10bbbac9978c3fa024c501b33bd66c1e      gactacagacatgcaccaacatgcccggctaattattctactttttgtagacactg\n",
      "                                                                                                                 \n",
      "\n",
      "\n",
      "Variant diffs:\n",
      "\n",
      "Position on chromosome: 71, index of diff: 136139833\n",
      "\n",
      "Position range on chromosome: 148-155, index range: 136139910-136139917\n",
      "\n",
      "Position on chromosome: 193, index of diff: 136139955\n",
      "\n",
      "Position range on chromosome: 247-896, index range: 136140009-136140658\n",
      "\n",
      "Finished search for tile 12099719\n",
      "\n"
     ]
    }
   ],
   "source": [
    "info = getTileVariants.tile_iteration(tile)"
   ]
  },
  {
   "cell_type": "code",
   "execution_count": 7,
   "metadata": {
    "scrolled": false
   },
   "outputs": [
    {
     "data": {
      "text/plain": [
       "{'chrom': '9',\n",
       " 'path': '01c4',\n",
       " 'position_end': '136140011',\n",
       " 'position_start': '136139786',\n",
       " 'step': '0369'}"
      ]
     },
     "execution_count": 7,
     "metadata": {},
     "output_type": "execute_result"
    }
   ],
   "source": [
    "info.to_dict() # add stop and end"
   ]
  },
  {
   "cell_type": "code",
   "execution_count": 8,
   "metadata": {
    "collapsed": true
   },
   "outputs": [],
   "source": [
    "variants_all = info.variants.split('\\n')[:-1]"
   ]
  },
  {
   "cell_type": "code",
   "execution_count": 9,
   "metadata": {
    "scrolled": true
   },
   "outputs": [
    {
     "data": {
      "text/plain": [
       "[['01c4.00.0369.000+1',\n",
       "  '60fe6d1a287c91939b151001adfdeada',\n",
       "  'ttcactgttcggggccactagcaacaaagcttctgtaaacactcatgtgcaggtatttgtggacctgtgttttcatttcccttgagtaaataccaaggaatggaaaagatgggtcatatggtaagtgtatgtttaactttgtaagaaactgccaaactgtgttccaaagtggtgactgaattttccattcccgccaggaatgtacgagaaccacagtccttgccaacacttgatggtcactcttttatc'],\n",
       " ['01c4.00.0369.001+1',\n",
       "  '7214c84c18b994abdd0dbf6a176a7407',\n",
       "  'ttcactgttcggggccactagcaacaaagcttctgtaaacactcatgtgcaggtatttgtggacctgtgttttcatttcccttgagtaaataccaaggaatggaaaagatgggtcatatggtaagtgtatgtttaactttgtaagaaactgtgttccaaagtggtgactgaattttccattcccgccaggaatgtacgagaaccacagtccttgccaacacttgatggtcactcttttatc'],\n",
       " ['01c4.00.0369.002+1',\n",
       "  '34c37138df011524d54aec04d3f2d723',\n",
       "  'ttcactgttcggggccactagcaacaaagcttctgtaaacactcatgtgcaggtatttgtggacctgtgttttcatttcccttgagtaaataccaaggaatggaaaagatgggtcatatggtaagtgtatgtttaactttgtaagaaactgccaaactgtgttccaaagtggtgactgaattttccattcccaccaggaatgtacgagaaccacagtccttgccaacacttgatggtcactcttttatc'],\n",
       " ['01c4.00.0369.003+1',\n",
       "  'bc42c6d168b007e5278f4308fd4db955',\n",
       "  'ttcactgttcggggccactagcaacaaagcttctgtaaacactcatgtgcaggtatttgtggacctgtgtcttcatttcccttgagtaaataccaaggaatggaaaagatgggtcatatggtaagtgtatgtttaactttgtaagaaactgccaaactgtgttccaaagtggtgactgaattttccattcccgccaggaatgtacgagaaccacagtccttgccaacacttgatggtcactcttttatc'],\n",
       " ['01c4.00.0369.004+1',\n",
       "  'dbac4cca74cdfeecc02209020cf2529b',\n",
       "  'ttcactgttcggggccactagcaacaaagcttctgtaaacactcatgtgcaggtatttgtggacctgtgtcttcatttcccttgagtaaataccaaggaatggaaaagatgggtcatatggtaagtgtatgtttaactttgtaagaaactgtgttccaaagtggtgactgaattttccattcccgccaggaatgtacgagaaccacagtccttgccaacacttgatggtcactcttttatc'],\n",
       " ['01c4.00.0369.005+2',\n",
       "  '10bbbac9978c3fa024c501b33bd66c1e',\n",
       "  'ttcactgttcggggccactagcaacaaagcttctgtaaacactcatgtgcaggtatttgtggacctgtgttttcatttcccttgagtaaataccaaggaatggaaaagatgggtcatatggtaagtgtatgtttaactttgtaagaaactgtgttccaaagtggtgactgaattttccattcccgccaggaatgtacgagaaccacagtccttgccaacacttgatggtcactctttttatcctttagccatgctagtggatgaggagtggtatctaagtgtgtccaatgactaaggaggtaaatcatcttttcatgtatttattggccatttgcttgcttcttatgaagcctgtccagatctttagctcattttattatttatttatttatttatttacttatatatatttttggggggcacagtcccactccagttgcccaggctggagtgtggtggcatgatcatggctcactacagcctcgacttcctgggctcaggtgatcctcccacctcagccttttgagtagctgagactataggcatgcaccacatctagctgattttttgtggttttggtagagatggggtttcaccatgttgcccaggctggtcttgaactcctgggcttaagcaatccacctgcctcagcctcccaatgtgctgggattacaggcataagccacctcacctggccctctatttttattttttttagacaggatcttactctgtcacccaggctggagtgcagtggcacgatcacagctcgctgcaacctcgaactcctgagcttaagtgatctttccccctcagcctcctgattaggtgggactacagacatgcaccaacatgcccggctaattattctactttttgtagacactg']]"
      ]
     },
     "execution_count": 9,
     "metadata": {},
     "output_type": "execute_result"
    }
   ],
   "source": [
    "variants = [variant.split(\",\") for variant in variants_all]\n",
    "variants"
   ]
  },
  {
   "cell_type": "code",
   "execution_count": 10,
   "metadata": {
    "scrolled": true
   },
   "outputs": [
    {
     "name": "stdout",
     "output_type": "stream",
     "text": [
      "{'01c4.00.0369.003+1,bc42c6d168b007e5278f4308fd4db955': 'ttcactgttcggggccactagcaacaaagcttctgtaaacactcatgtgcaggtatttgtggacctgtgtcttcatttcccttgagtaaataccaaggaatggaaaagatgggtcatatggtaagtgtatgtttaactttgtaagaaactgccaaactgtgttccaaagtggtgactgaattttccattcccgccaggaatgtacgagaaccacagtccttgccaacacttgatggtcactcttttatc-----------------------------------------------------------------------------------------------------------------------------------------------------------------------------------------------------------------------------------------------------------------------------------------------------------------------------------------------------------------------------------------------------------------------------------------------------------------------------------------------------------------------------------------------------------------------------------------------------------------------------------------------------------------------', '01c4.00.0369.001+1,7214c84c18b994abdd0dbf6a176a7407': 'ttcactgttcggggccactagcaacaaagcttctgtaaacactcatgtgcaggtatttgtggacctgtgttttcatttcccttgagtaaataccaaggaatggaaaagatgggtcatatggtaagtgtatgtttaactttgtaagaa--------actgtgttccaaagtggtgactgaattttccattcccgccaggaatgtacgagaaccacagtccttgccaacacttgatggtcactcttttatc-----------------------------------------------------------------------------------------------------------------------------------------------------------------------------------------------------------------------------------------------------------------------------------------------------------------------------------------------------------------------------------------------------------------------------------------------------------------------------------------------------------------------------------------------------------------------------------------------------------------------------------------------------------------------', '01c4.00.0369.000+1,60fe6d1a287c91939b151001adfdeada': 'ttcactgttcggggccactagcaacaaagcttctgtaaacactcatgtgcaggtatttgtggacctgtgttttcatttcccttgagtaaataccaaggaatggaaaagatgggtcatatggtaagtgtatgtttaactttgtaagaaactgccaaactgtgttccaaagtggtgactgaattttccattcccgccaggaatgtacgagaaccacagtccttgccaacacttgatggtcactcttttatc-----------------------------------------------------------------------------------------------------------------------------------------------------------------------------------------------------------------------------------------------------------------------------------------------------------------------------------------------------------------------------------------------------------------------------------------------------------------------------------------------------------------------------------------------------------------------------------------------------------------------------------------------------------------------', '01c4.00.0369.004+1,dbac4cca74cdfeecc02209020cf2529b': 'ttcactgttcggggccactagcaacaaagcttctgtaaacactcatgtgcaggtatttgtggacctgtgtcttcatttcccttgagtaaataccaaggaatggaaaagatgggtcatatggtaagtgtatgtttaactttgtaagaa--------actgtgttccaaagtggtgactgaattttccattcccgccaggaatgtacgagaaccacagtccttgccaacacttgatggtcactcttttatc-----------------------------------------------------------------------------------------------------------------------------------------------------------------------------------------------------------------------------------------------------------------------------------------------------------------------------------------------------------------------------------------------------------------------------------------------------------------------------------------------------------------------------------------------------------------------------------------------------------------------------------------------------------------------', '01c4.00.0369.005+2,10bbbac9978c3fa024c501b33bd66c1e': 'ttcactgttcggggccactagcaacaaagcttctgtaaacactcatgtgcaggtatttgtggacctgtgttttcatttcccttgagtaaataccaaggaatggaaaagatgggtcatatggtaagtgtatgtttaactttgtaagaa--------actgtgttccaaagtggtgactgaattttccattcccgccaggaatgtacgagaaccacagtccttgccaacacttgatggtcactctttttatcctttagccatgctagtggatgaggagtggtatctaagtgtgtccaatgactaaggaggtaaatcatcttttcatgtatttattggccatttgcttgcttcttatgaagcctgtccagatctttagctcattttattatttatttatttatttatttacttatatatatttttggggggcacagtcccactccagttgcccaggctggagtgtggtggcatgatcatggctcactacagcctcgacttcctgggctcaggtgatcctcccacctcagccttttgagtagctgagactataggcatgcaccacatctagctgattttttgtggttttggtagagatggggtttcaccatgttgcccaggctggtcttgaactcctgggcttaagcaatccacctgcctcagcctcccaatgtgctgggattacaggcataagccacctcacctggccctctatttttattttttttagacaggatcttactctgtcacccaggctggagtgcagtggcacgatcacagctcgctgcaacctcgaactcctgagcttaagtgatctttccccctcagcctcctgattaggtgggactacagacatgcaccaacatgcccggctaattattctactttttgtagacactg', '01c4.00.0369.002+1,34c37138df011524d54aec04d3f2d723': 'ttcactgttcggggccactagcaacaaagcttctgtaaacactcatgtgcaggtatttgtggacctgtgttttcatttcccttgagtaaataccaaggaatggaaaagatgggtcatatggtaagtgtatgtttaactttgtaagaaactgccaaactgtgttccaaagtggtgactgaattttccattcccaccaggaatgtacgagaaccacagtccttgccaacacttgatggtcactcttttatc-----------------------------------------------------------------------------------------------------------------------------------------------------------------------------------------------------------------------------------------------------------------------------------------------------------------------------------------------------------------------------------------------------------------------------------------------------------------------------------------------------------------------------------------------------------------------------------------------------------------------------------------------------------------------'}\n"
     ]
    }
   ],
   "source": [
    "variants_dict = {}\n",
    "for i in info.clustalo_entries:\n",
    "    for variant_part in i[:-1]:\n",
    "        line = filter(lambda x: x != \"\", variant_part.split(\" \"))\n",
    "        if line[0] not in variants_dict:\n",
    "            variants_dict[line[0]] = [line[1]]\n",
    "        else:\n",
    "            variants_dict[line[0]].append(line[1])\n",
    "for variant_part in variants_dict:\n",
    "    variants_dict[variant_part] = \"\".join(variants_dict[variant_part])\n",
    "print(variants_dict)"
   ]
  },
  {
   "cell_type": "code",
   "execution_count": 11,
   "metadata": {},
   "outputs": [
    {
     "data": {
      "text/plain": [
       "['01c4.00.0369.000+1,60fe6d1a287c91939b151001adfdeada      ttcactgttcggggccactagcaacaaagcttctgtaaacactcatgtgcaggtatttgt',\n",
       " '01c4.00.0369.001+1,7214c84c18b994abdd0dbf6a176a7407      ttcactgttcggggccactagcaacaaagcttctgtaaacactcatgtgcaggtatttgt',\n",
       " '01c4.00.0369.002+1,34c37138df011524d54aec04d3f2d723      ttcactgttcggggccactagcaacaaagcttctgtaaacactcatgtgcaggtatttgt',\n",
       " '01c4.00.0369.003+1,bc42c6d168b007e5278f4308fd4db955      ttcactgttcggggccactagcaacaaagcttctgtaaacactcatgtgcaggtatttgt',\n",
       " '01c4.00.0369.004+1,dbac4cca74cdfeecc02209020cf2529b      ttcactgttcggggccactagcaacaaagcttctgtaaacactcatgtgcaggtatttgt',\n",
       " '01c4.00.0369.005+2,10bbbac9978c3fa024c501b33bd66c1e      ttcactgttcggggccactagcaacaaagcttctgtaaacactcatgtgcaggtatttgt',\n",
       " '                                                         ************************************************************']"
      ]
     },
     "execution_count": 11,
     "metadata": {},
     "output_type": "execute_result"
    }
   ],
   "source": [
    "info.clustalo_entries[0]"
   ]
  },
  {
   "cell_type": "code",
   "execution_count": 15,
   "metadata": {
    "scrolled": true
   },
   "outputs": [
    {
     "name": "stdout",
     "output_type": "stream",
     "text": [
      "(71, 136139833, '01c4.00.0369.003+1', 'T>C')\n",
      "(71, 136139833, '01c4.00.0369.004+1', 'T>C')\n",
      "Possible INDEL\n",
      "agaaactgccaaactgt\n",
      "ctgccaaa\n",
      "\n",
      "Possible INDEL\n",
      "agaaactgtgttccaaa\n",
      "ctgtgttc\n",
      "\n",
      "Possible INDEL\n",
      "agaaactgccaaactgt\n",
      "ctgccaaa\n",
      "\n",
      "Possible INDEL\n",
      "agaaactgccaaactgt\n",
      "ctgccaaa\n",
      "\n",
      "Possible INDEL\n",
      "agaaactgtgttccaaa\n",
      "ctgtgttc\n",
      "\n",
      "('spanning', '01c4.00.0369.005+2')\n",
      "(193, 136139955, '01c4.00.0369.001+1', 'G>T')\n",
      "(193, 136139955, '01c4.00.0369.002+1', 'G>A')\n",
      "(193, 136139955, '01c4.00.0369.004+1', 'G>T')\n",
      "(193, 136139955, '01c4.00.0369.005+2', 'G>T')\n",
      "Possible INDEL\n",
      "ttttatc\n",
      "tc\n",
      "\n",
      "Possible INDEL\n",
      "ttttatc\n",
      "tc\n",
      "\n",
      "Possible INDEL\n",
      "ttttatc\n",
      "tc\n",
      "\n",
      "('spanning', '01c4.00.0369.005+2')\n"
     ]
    }
   ],
   "source": [
    "# finds the specific snps\n",
    "for diff_info in info.diffs_map:\n",
    "    # get the letter corresponding to the differing indices in the variants\n",
    "    sequences = [variant[2] for variant in variants]\n",
    "    ids = [variant[0] for variant in variants]\n",
    "    diff_letters = []\n",
    "    # print out snp and details of snp\n",
    "    if type(diff_info[0]) == int:\n",
    "        diff_idx = diff_info[0]\n",
    "        diff_pos = diff_info[1]\n",
    "        for sequence in sequences:\n",
    "            if diff_idx >= len(sequence):\n",
    "                diff_letters.append(\"_\")\n",
    "            else:\n",
    "                diff_letters.append(sequence[diff_idx - 1])\n",
    "\n",
    "        for i, letter in enumerate(diff_letters[1:]):\n",
    "            if letter != diff_letters[0] and diff_letters[0] != '_':\n",
    "                print(diff_idx, diff_pos, ids[i + 1], diff_letters[0].upper() + \">\" + letter.upper())\n",
    "    else:\n",
    "        # handle difference range - spanning tiles or long INDELs\n",
    "        diff_start = diff_info[0][0]\n",
    "        diff_end = diff_info[0][1]\n",
    "        diff_pos = diff_info[1]\n",
    "        #print(\"Difference range: {}\".format(diff_info[0]))\n",
    "        for i, sequence in enumerate(sequences):\n",
    "            if diff_start > len(sequence):\n",
    "                # the diff index is representing a spanning tile but the sequence is not spanning\n",
    "                # in this case, do not print anything because the diff index does not mean anything\n",
    "                pass\n",
    "            elif int(ids[i].split(\"+\")[1]) > 1:\n",
    "                # spanning tile. print range\n",
    "                print(\"spanning\", ids[i])\n",
    "            else:\n",
    "                # sequence is not spanning and diff index is not representing spanning.\n",
    "                print(\"Possible INDEL\")\n",
    "                print(sequence[diff_start - 5:diff_end + 5])\n",
    "                print(sequence[diff_start:diff_end + 1])\n",
    "                print"
   ]
  },
  {
   "cell_type": "code",
   "execution_count": 42,
   "metadata": {
    "collapsed": true
   },
   "outputs": [],
   "source": [
    "first_seq = variants[3][2]\n",
    "second_seq = variants[4][2]"
   ]
  },
  {
   "cell_type": "code",
   "execution_count": null,
   "metadata": {
    "collapsed": true
   },
   "outputs": [],
   "source": []
  }
 ],
 "metadata": {
  "kernelspec": {
   "display_name": "Python 2",
   "language": "python",
   "name": "python2"
  },
  "language_info": {
   "codemirror_mode": {
    "name": "ipython",
    "version": 2
   },
   "file_extension": ".py",
   "mimetype": "text/x-python",
   "name": "python",
   "nbconvert_exporter": "python",
   "pygments_lexer": "ipython2",
   "version": "2.7.12"
  }
 },
 "nbformat": 4,
 "nbformat_minor": 2
}
