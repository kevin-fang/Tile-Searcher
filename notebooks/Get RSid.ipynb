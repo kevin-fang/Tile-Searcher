{
 "cells": [
  {
   "cell_type": "code",
   "execution_count": 2,
   "metadata": {
    "collapsed": true
   },
   "outputs": [],
   "source": [
    "tile_idx = 12099719\n",
    "varval = 1"
   ]
  },
  {
   "cell_type": "code",
   "execution_count": 3,
   "metadata": {
    "collapsed": true
   },
   "outputs": [],
   "source": [
    "import application, getTileVariants\n",
    "import subprocess"
   ]
  },
  {
   "cell_type": "code",
   "execution_count": 4,
   "metadata": {
    "collapsed": true
   },
   "outputs": [],
   "source": [
    "tile = application.Tile(tile_idx)"
   ]
  },
  {
   "cell_type": "code",
   "execution_count": 5,
   "metadata": {
    "scrolled": true
   },
   "outputs": [
    {
     "name": "stdout",
     "output_type": "stream",
     "text": [
      "Tile 12099719 information:\n",
      "hg19:chr9:01c4\t91424\t96791024\t15\t16\n",
      "Path: 01c4\n",
      "Step: 0369\n",
      "Phase: 0x1\n",
      "\n",
      "0368\t 136139786\n",
      "0369\t 136140011\n",
      "\n",
      "01c4.00.0369.000+1,60fe6d1a287c91939b151001adfdeada      ttcactgttcggggccactagcaacaaagcttctgtaaacactcatgtgcaggtatttgt\n",
      "01c4.00.0369.001+1,7214c84c18b994abdd0dbf6a176a7407      ttcactgttcggggccactagcaacaaagcttctgtaaacactcatgtgcaggtatttgt\n",
      "01c4.00.0369.002+1,34c37138df011524d54aec04d3f2d723      ttcactgttcggggccactagcaacaaagcttctgtaaacactcatgtgcaggtatttgt\n",
      "01c4.00.0369.003+1,bc42c6d168b007e5278f4308fd4db955      ttcactgttcggggccactagcaacaaagcttctgtaaacactcatgtgcaggtatttgt\n",
      "01c4.00.0369.004+1,dbac4cca74cdfeecc02209020cf2529b      ttcactgttcggggccactagcaacaaagcttctgtaaacactcatgtgcaggtatttgt\n",
      "01c4.00.0369.005+2,10bbbac9978c3fa024c501b33bd66c1e      ttcactgttcggggccactagcaacaaagcttctgtaaacactcatgtgcaggtatttgt\n",
      "                                                         ************************************************************\n",
      "\n",
      "\n",
      "01c4.00.0369.000+1,60fe6d1a287c91939b151001adfdeada      ggacctgtgttttcatttcccttgagtaaataccaaggaatggaaaagatgggtcatatg\n",
      "01c4.00.0369.001+1,7214c84c18b994abdd0dbf6a176a7407      ggacctgtgttttcatttcccttgagtaaataccaaggaatggaaaagatgggtcatatg\n",
      "01c4.00.0369.002+1,34c37138df011524d54aec04d3f2d723      ggacctgtgttttcatttcccttgagtaaataccaaggaatggaaaagatgggtcatatg\n",
      "01c4.00.0369.003+1,bc42c6d168b007e5278f4308fd4db955      ggacctgtgtcttcatttcccttgagtaaataccaaggaatggaaaagatgggtcatatg\n",
      "01c4.00.0369.004+1,dbac4cca74cdfeecc02209020cf2529b      ggacctgtgtcttcatttcccttgagtaaataccaaggaatggaaaagatgggtcatatg\n",
      "01c4.00.0369.005+2,10bbbac9978c3fa024c501b33bd66c1e      ggacctgtgttttcatttcccttgagtaaataccaaggaatggaaaagatgggtcatatg\n",
      "                                                         ********** *************************************************\n",
      "\n",
      "\n",
      "01c4.00.0369.000+1,60fe6d1a287c91939b151001adfdeada      gtaagtgtatgtttaactttgtaagaaactgccaaactgtgttccaaagtggtgactgaa\n",
      "01c4.00.0369.001+1,7214c84c18b994abdd0dbf6a176a7407      gtaagtgtatgtttaactttgtaagaa--------actgtgttccaaagtggtgactgaa\n",
      "01c4.00.0369.002+1,34c37138df011524d54aec04d3f2d723      gtaagtgtatgtttaactttgtaagaaactgccaaactgtgttccaaagtggtgactgaa\n",
      "01c4.00.0369.003+1,bc42c6d168b007e5278f4308fd4db955      gtaagtgtatgtttaactttgtaagaaactgccaaactgtgttccaaagtggtgactgaa\n",
      "01c4.00.0369.004+1,dbac4cca74cdfeecc02209020cf2529b      gtaagtgtatgtttaactttgtaagaa--------actgtgttccaaagtggtgactgaa\n",
      "01c4.00.0369.005+2,10bbbac9978c3fa024c501b33bd66c1e      gtaagtgtatgtttaactttgtaagaa--------actgtgttccaaagtggtgactgaa\n",
      "                                                         ***************************        *************************\n",
      "\n",
      "\n",
      "01c4.00.0369.000+1,60fe6d1a287c91939b151001adfdeada      ttttccattcccgccaggaatgtacgagaaccacagtccttgccaacacttgatggtcac\n",
      "01c4.00.0369.001+1,7214c84c18b994abdd0dbf6a176a7407      ttttccattcccgccaggaatgtacgagaaccacagtccttgccaacacttgatggtcac\n",
      "01c4.00.0369.002+1,34c37138df011524d54aec04d3f2d723      ttttccattcccaccaggaatgtacgagaaccacagtccttgccaacacttgatggtcac\n",
      "01c4.00.0369.003+1,bc42c6d168b007e5278f4308fd4db955      ttttccattcccgccaggaatgtacgagaaccacagtccttgccaacacttgatggtcac\n",
      "01c4.00.0369.004+1,dbac4cca74cdfeecc02209020cf2529b      ttttccattcccgccaggaatgtacgagaaccacagtccttgccaacacttgatggtcac\n",
      "01c4.00.0369.005+2,10bbbac9978c3fa024c501b33bd66c1e      ttttccattcccgccaggaatgtacgagaaccacagtccttgccaacacttgatggtcac\n",
      "                                                         ************ ***********************************************\n",
      "\n",
      "\n",
      "01c4.00.0369.000+1,60fe6d1a287c91939b151001adfdeada      tcttttatc---------------------------------------------------\n",
      "01c4.00.0369.001+1,7214c84c18b994abdd0dbf6a176a7407      tcttttatc---------------------------------------------------\n",
      "01c4.00.0369.002+1,34c37138df011524d54aec04d3f2d723      tcttttatc---------------------------------------------------\n",
      "01c4.00.0369.003+1,bc42c6d168b007e5278f4308fd4db955      tcttttatc---------------------------------------------------\n",
      "01c4.00.0369.004+1,dbac4cca74cdfeecc02209020cf2529b      tcttttatc---------------------------------------------------\n",
      "01c4.00.0369.005+2,10bbbac9978c3fa024c501b33bd66c1e      tctttttatcctttagccatgctagtggatgaggagtggtatctaagtgtgtccaatgac\n",
      "                                                         ******                                                      \n",
      "\n",
      "\n",
      "01c4.00.0369.000+1,60fe6d1a287c91939b151001adfdeada      ------------------------------------------------------------\n",
      "01c4.00.0369.001+1,7214c84c18b994abdd0dbf6a176a7407      ------------------------------------------------------------\n",
      "01c4.00.0369.002+1,34c37138df011524d54aec04d3f2d723      ------------------------------------------------------------\n",
      "01c4.00.0369.003+1,bc42c6d168b007e5278f4308fd4db955      ------------------------------------------------------------\n",
      "01c4.00.0369.004+1,dbac4cca74cdfeecc02209020cf2529b      ------------------------------------------------------------\n",
      "01c4.00.0369.005+2,10bbbac9978c3fa024c501b33bd66c1e      taaggaggtaaatcatcttttcatgtatttattggccatttgcttgcttcttatgaagcc\n",
      "                                                                                                                     \n",
      "\n",
      "\n",
      "01c4.00.0369.000+1,60fe6d1a287c91939b151001adfdeada      ------------------------------------------------------------\n",
      "01c4.00.0369.001+1,7214c84c18b994abdd0dbf6a176a7407      ------------------------------------------------------------\n",
      "01c4.00.0369.002+1,34c37138df011524d54aec04d3f2d723      ------------------------------------------------------------\n",
      "01c4.00.0369.003+1,bc42c6d168b007e5278f4308fd4db955      ------------------------------------------------------------\n",
      "01c4.00.0369.004+1,dbac4cca74cdfeecc02209020cf2529b      ------------------------------------------------------------\n",
      "01c4.00.0369.005+2,10bbbac9978c3fa024c501b33bd66c1e      tgtccagatctttagctcattttattatttatttatttatttatttacttatatatattt\n",
      "                                                                                                                     \n",
      "\n",
      "\n",
      "01c4.00.0369.000+1,60fe6d1a287c91939b151001adfdeada      ------------------------------------------------------------\n",
      "01c4.00.0369.001+1,7214c84c18b994abdd0dbf6a176a7407      ------------------------------------------------------------\n",
      "01c4.00.0369.002+1,34c37138df011524d54aec04d3f2d723      ------------------------------------------------------------\n",
      "01c4.00.0369.003+1,bc42c6d168b007e5278f4308fd4db955      ------------------------------------------------------------\n",
      "01c4.00.0369.004+1,dbac4cca74cdfeecc02209020cf2529b      ------------------------------------------------------------\n",
      "01c4.00.0369.005+2,10bbbac9978c3fa024c501b33bd66c1e      ttggggggcacagtcccactccagttgcccaggctggagtgtggtggcatgatcatggct\n",
      "                                                                                                                     \n",
      "\n",
      "\n",
      "01c4.00.0369.000+1,60fe6d1a287c91939b151001adfdeada      ------------------------------------------------------------\n",
      "01c4.00.0369.001+1,7214c84c18b994abdd0dbf6a176a7407      ------------------------------------------------------------\n",
      "01c4.00.0369.002+1,34c37138df011524d54aec04d3f2d723      ------------------------------------------------------------\n",
      "01c4.00.0369.003+1,bc42c6d168b007e5278f4308fd4db955      ------------------------------------------------------------\n",
      "01c4.00.0369.004+1,dbac4cca74cdfeecc02209020cf2529b      ------------------------------------------------------------\n",
      "01c4.00.0369.005+2,10bbbac9978c3fa024c501b33bd66c1e      cactacagcctcgacttcctgggctcaggtgatcctcccacctcagccttttgagtagct\n",
      "                                                                                                                     \n",
      "\n",
      "\n",
      "01c4.00.0369.000+1,60fe6d1a287c91939b151001adfdeada      ------------------------------------------------------------\n",
      "01c4.00.0369.001+1,7214c84c18b994abdd0dbf6a176a7407      ------------------------------------------------------------\n",
      "01c4.00.0369.002+1,34c37138df011524d54aec04d3f2d723      ------------------------------------------------------------\n",
      "01c4.00.0369.003+1,bc42c6d168b007e5278f4308fd4db955      ------------------------------------------------------------\n",
      "01c4.00.0369.004+1,dbac4cca74cdfeecc02209020cf2529b      ------------------------------------------------------------\n",
      "01c4.00.0369.005+2,10bbbac9978c3fa024c501b33bd66c1e      gagactataggcatgcaccacatctagctgattttttgtggttttggtagagatggggtt\n",
      "                                                                                                                     \n",
      "\n",
      "\n",
      "01c4.00.0369.000+1,60fe6d1a287c91939b151001adfdeada      ------------------------------------------------------------\n",
      "01c4.00.0369.001+1,7214c84c18b994abdd0dbf6a176a7407      ------------------------------------------------------------\n",
      "01c4.00.0369.002+1,34c37138df011524d54aec04d3f2d723      ------------------------------------------------------------\n",
      "01c4.00.0369.003+1,bc42c6d168b007e5278f4308fd4db955      ------------------------------------------------------------\n",
      "01c4.00.0369.004+1,dbac4cca74cdfeecc02209020cf2529b      ------------------------------------------------------------\n",
      "01c4.00.0369.005+2,10bbbac9978c3fa024c501b33bd66c1e      tcaccatgttgcccaggctggtcttgaactcctgggcttaagcaatccacctgcctcagc\n",
      "                                                                                                                     \n",
      "\n",
      "\n",
      "01c4.00.0369.000+1,60fe6d1a287c91939b151001adfdeada      ------------------------------------------------------------\n",
      "01c4.00.0369.001+1,7214c84c18b994abdd0dbf6a176a7407      ------------------------------------------------------------\n",
      "01c4.00.0369.002+1,34c37138df011524d54aec04d3f2d723      ------------------------------------------------------------\n",
      "01c4.00.0369.003+1,bc42c6d168b007e5278f4308fd4db955      ------------------------------------------------------------\n",
      "01c4.00.0369.004+1,dbac4cca74cdfeecc02209020cf2529b      ------------------------------------------------------------\n",
      "01c4.00.0369.005+2,10bbbac9978c3fa024c501b33bd66c1e      ctcccaatgtgctgggattacaggcataagccacctcacctggccctctatttttatttt\n",
      "                                                                                                                     \n",
      "\n",
      "\n",
      "01c4.00.0369.000+1,60fe6d1a287c91939b151001adfdeada      ------------------------------------------------------------\n",
      "01c4.00.0369.001+1,7214c84c18b994abdd0dbf6a176a7407      ------------------------------------------------------------\n",
      "01c4.00.0369.002+1,34c37138df011524d54aec04d3f2d723      ------------------------------------------------------------\n",
      "01c4.00.0369.003+1,bc42c6d168b007e5278f4308fd4db955      ------------------------------------------------------------\n",
      "01c4.00.0369.004+1,dbac4cca74cdfeecc02209020cf2529b      ------------------------------------------------------------\n",
      "01c4.00.0369.005+2,10bbbac9978c3fa024c501b33bd66c1e      ttttagacaggatcttactctgtcacccaggctggagtgcagtggcacgatcacagctcg\n",
      "                                                                                                                     \n",
      "\n",
      "\n",
      "01c4.00.0369.000+1,60fe6d1a287c91939b151001adfdeada      ------------------------------------------------------------\n",
      "01c4.00.0369.001+1,7214c84c18b994abdd0dbf6a176a7407      ------------------------------------------------------------\n",
      "01c4.00.0369.002+1,34c37138df011524d54aec04d3f2d723      ------------------------------------------------------------\n",
      "01c4.00.0369.003+1,bc42c6d168b007e5278f4308fd4db955      ------------------------------------------------------------\n",
      "01c4.00.0369.004+1,dbac4cca74cdfeecc02209020cf2529b      ------------------------------------------------------------\n",
      "01c4.00.0369.005+2,10bbbac9978c3fa024c501b33bd66c1e      ctgcaacctcgaactcctgagcttaagtgatctttccccctcagcctcctgattaggtgg\n",
      "                                                                                                                     \n",
      "\n",
      "\n",
      "01c4.00.0369.000+1,60fe6d1a287c91939b151001adfdeada      --------------------------------------------------------\n",
      "01c4.00.0369.001+1,7214c84c18b994abdd0dbf6a176a7407      --------------------------------------------------------\n",
      "01c4.00.0369.002+1,34c37138df011524d54aec04d3f2d723      --------------------------------------------------------\n",
      "01c4.00.0369.003+1,bc42c6d168b007e5278f4308fd4db955      --------------------------------------------------------\n",
      "01c4.00.0369.004+1,dbac4cca74cdfeecc02209020cf2529b      --------------------------------------------------------\n",
      "01c4.00.0369.005+2,10bbbac9978c3fa024c501b33bd66c1e      gactacagacatgcaccaacatgcccggctaattattctactttttgtagacactg\n",
      "                                                                                                                 \n",
      "\n",
      "\n",
      "Variant diffs:\n",
      "\n",
      "Position on chromosome: 71, index of diff: 136139833\n",
      "\n",
      "Position range on chromosome: 148-155, index range: 136139910-136139917\n",
      "\n",
      "Position on chromosome: 193, index of diff: 136139955\n",
      "\n",
      "Position range on chromosome: 247-896, index range: 136140009-136140658\n",
      "\n",
      "Finished search for tile 12099719\n",
      "\n"
     ]
    }
   ],
   "source": [
    "info = getTileVariants.tile_iteration(tile)#, out=\"suppress\")"
   ]
  },
  {
   "cell_type": "code",
   "execution_count": 6,
   "metadata": {},
   "outputs": [
    {
     "data": {
      "text/plain": [
       "{'chrom': '9',\n",
       " 'path': '01c4',\n",
       " 'position_end': '136140011',\n",
       " 'position_start': '136139786',\n",
       " 'step': '0369'}"
      ]
     },
     "execution_count": 6,
     "metadata": {},
     "output_type": "execute_result"
    }
   ],
   "source": [
    "info.to_dict()"
   ]
  },
  {
   "cell_type": "code",
   "execution_count": 22,
   "metadata": {
    "collapsed": true
   },
   "outputs": [],
   "source": [
    "tile_variant = info.variants.split('\\n')[varval]\n",
    "common_variant = info.variants.split('\\n')[0]"
   ]
  },
  {
   "cell_type": "code",
   "execution_count": 23,
   "metadata": {},
   "outputs": [
    {
     "name": "stdout",
     "output_type": "stream",
     "text": [
      "01c4.00.0369.001+1,7214c84c18b994abdd0dbf6a176a7407,ttcactgttcggggccactagcaacaaagcttctgtaaacactcatgtgcaggtatttgtggacctgtgttttcatttcccttgagtaaataccaaggaatggaaaagatgggtcatatggtaagtgtatgtttaactttgtaagaaactgtgttccaaagtggtgactgaattttccattcccgccaggaatgtacgagaaccacagtccttgccaacacttgatggtcactcttttatc\n",
      "01c4.00.0369.000+1,60fe6d1a287c91939b151001adfdeada,ttcactgttcggggccactagcaacaaagcttctgtaaacactcatgtgcaggtatttgtggacctgtgttttcatttcccttgagtaaataccaaggaatggaaaagatgggtcatatggtaagtgtatgtttaactttgtaagaaactgccaaactgtgttccaaagtggtgactgaattttccattcccgccaggaatgtacgagaaccacagtccttgccaacacttgatggtcactcttttatc\n"
     ]
    }
   ],
   "source": [
    "print(tile_variant)\n",
    "print(common_variant)"
   ]
  },
  {
   "cell_type": "code",
   "execution_count": 24,
   "metadata": {
    "collapsed": true
   },
   "outputs": [],
   "source": [
    "from Bio import Align\n",
    "aligner = Align.PairwiseAligner()\n",
    "aligner.mode = \"local\""
   ]
  },
  {
   "cell_type": "code",
   "execution_count": 25,
   "metadata": {
    "collapsed": true
   },
   "outputs": [],
   "source": [
    "tile_seq = tile_variant.split(',')[2]\n",
    "common_seq = common_variant.split(',')[2]"
   ]
  },
  {
   "cell_type": "code",
   "execution_count": 26,
   "metadata": {
    "collapsed": true
   },
   "outputs": [],
   "source": [
    "alignments = aligner.align(common_seq, tile_seq)"
   ]
  },
  {
   "cell_type": "code",
   "execution_count": 27,
   "metadata": {
    "collapsed": true,
    "scrolled": true
   },
   "outputs": [],
   "source": [
    "align = str(alignments[0]).split('\\n')"
   ]
  },
  {
   "cell_type": "code",
   "execution_count": 28,
   "metadata": {},
   "outputs": [
    {
     "data": {
      "text/plain": [
       "['ttcactgttcggggccactagcaacaaagcttctgtaaacactcatgtgcaggtatttgtggacctgtgttttcatttcccttgagtaaataccaaggaatggaaaagatgggtcatatggtaagtgtatgtttaactttgtaagaaactgccaaactgtgttccaaagtggtgactgaattttccattcccgccaggaatgtacgagaaccacagtccttgccaacacttgatggtcactcttttatc',\n",
       " '|||||||||||||||||||||||||||||||||||||||||||||||||||||||||||||||||||||||||||||||||||||||||||||||||||||||||||||||||||||||||||||||||||||||||||||||||||||||------|||-|-||||||||||||||||||||||||||||||||||||||||||||||||||||||||||||||||||||||||||||||||||||||',\n",
       " 'ttcactgttcggggccactagcaacaaagcttctgtaaacactcatgtgcaggtatttgtggacctgtgttttcatttcccttgagtaaataccaaggaatggaaaagatgggtcatatggtaagtgtatgtttaactttgtaagaaactg------tgt-t-ccaaagtggtgactgaattttccattcccgccaggaatgtacgagaaccacagtccttgccaacacttgatggtcactcttttatc',\n",
       " '']"
      ]
     },
     "execution_count": 28,
     "metadata": {},
     "output_type": "execute_result"
    }
   ],
   "source": [
    "align"
   ]
  },
  {
   "cell_type": "code",
   "execution_count": 16,
   "metadata": {
    "collapsed": true,
    "scrolled": true
   },
   "outputs": [],
   "source": [
    "alignment_info = str(alignments[0]).split('\\n')[1]"
   ]
  },
  {
   "cell_type": "code",
   "execution_count": 17,
   "metadata": {
    "collapsed": true
   },
   "outputs": [],
   "source": [
    "diffs = [i for i, char in enumerate(alignment_info) if char != '|']"
   ]
  },
  {
   "cell_type": "code",
   "execution_count": 18,
   "metadata": {
    "collapsed": true
   },
   "outputs": [],
   "source": [
    "indices = [i + int(info.to_dict()['position_start']) - 24 for i in diffs]"
   ]
  },
  {
   "cell_type": "code",
   "execution_count": 19,
   "metadata": {},
   "outputs": [
    {
     "name": "stdout",
     "output_type": "stream",
     "text": [
      "([151, 152, 153, 154, 155, 156, 160, 162, 249, 250, 251, 252, 253, 254, 255, 256, 257, 258, 259, 260, 261, 262, 263, 264, 265, 266], [136139913, 136139914, 136139915, 136139916, 136139917, 136139918, 136139922, 136139924, 136140011, 136140012, 136140013, 136140014, 136140015, 136140016, 136140017, 136140018, 136140019, 136140020, 136140021, 136140022, 136140023, 136140024, 136140025, 136140026, 136140027, 136140028])\n"
     ]
    }
   ],
   "source": [
    "print(diffs, indices)"
   ]
  },
  {
   "cell_type": "code",
   "execution_count": 20,
   "metadata": {
    "collapsed": true
   },
   "outputs": [],
   "source": [
    "tile_dict = info.to_dict()\n",
    "# chromosome and position and it checks for the particular position\n",
    "checkstr = \"{}:{}-{}\".format(tile_dict['chrom'], tile_dict['position_start'], tile_dict['position_end'])\n",
    "# chromosome:position\n",
    "# chr:from-to\n",
    "# 9:136139786-136140011\n",
    "# GrCH37\n",
    "outputzip = \"/home/kfang/keep/by_id/su92l-4zz18-v96bt8gwbsini81/GRCh37p13.vcf.gz\"\n",
    "#outputzip = \"/home/kfang/keep/by_id/su92l-4zz18-v96bt8gwbsini81/GRCh38p7.vcf.gz\""
   ]
  },
  {
   "cell_type": "code",
   "execution_count": 21,
   "metadata": {},
   "outputs": [
    {
     "name": "stdout",
     "output_type": "stream",
     "text": [
      "9:136139786-136140011\n"
     ]
    }
   ],
   "source": [
    "print(checkstr)"
   ]
  },
  {
   "cell_type": "code",
   "execution_count": 218,
   "metadata": {
    "collapsed": true
   },
   "outputs": [],
   "source": [
    "bcfstr = 'bcftools query -f' + '\\'%CHROM %ID %POS\\\\n\\'' + ' -r ' + checkstr + ' ' + outputzip"
   ]
  },
  {
   "cell_type": "code",
   "execution_count": 219,
   "metadata": {
    "collapsed": true
   },
   "outputs": [],
   "source": [
    "resultquery = subprocess.check_output(bcfstr,shell=True)"
   ]
  },
  {
   "cell_type": "code",
   "execution_count": 220,
   "metadata": {
    "collapsed": true
   },
   "outputs": [],
   "source": [
    "rsid_info = [query.split(' ') for query in resultquery.split('\\n') if query != \"\"]"
   ]
  },
  {
   "cell_type": "code",
   "execution_count": 221,
   "metadata": {},
   "outputs": [
    {
     "data": {
      "text/plain": [
       "[['9', 'rs138986090', '136139812'],\n",
       " ['9', 'rs141515001', '136139833'],\n",
       " ['9', 'rs782095868', '136139863'],\n",
       " ['9', 'rs782697011', '136139864'],\n",
       " ['9', 'rs746655603', '136139873'],\n",
       " ['9', 'rs782134971', '136139907'],\n",
       " ['9', 'rs149092047', '136139907'],\n",
       " ['9', 'rs60937319', '136139907'],\n",
       " ['9', 'rs184946026', '136139913'],\n",
       " ['9', 'rs187240396', '136139914'],\n",
       " ['9', 'rs8176679', '136139955'],\n",
       " ['9', 'rs150484570', '136139961'],\n",
       " ['9', 'rs587743474', '136139967'],\n",
       " ['9', 'rs782144886', '136139968']]"
      ]
     },
     "execution_count": 221,
     "metadata": {},
     "output_type": "execute_result"
    }
   ],
   "source": [
    "rsid_info"
   ]
  },
  {
   "cell_type": "code",
   "execution_count": 222,
   "metadata": {
    "collapsed": true
   },
   "outputs": [],
   "source": [
    "loc_rsid_map = {}\n",
    "for chrom, rsid, loc in rsid_info:\n",
    "    try:\n",
    "        loc_rsid_map[loc].append(rsid)\n",
    "    except:\n",
    "        loc_rsid_map[loc] = [rsid]"
   ]
  },
  {
   "cell_type": "code",
   "execution_count": 223,
   "metadata": {
    "scrolled": true
   },
   "outputs": [
    {
     "name": "stdout",
     "output_type": "stream",
     "text": [
      "{'136139907': ['rs782134971', 'rs149092047', 'rs60937319'], '136139913': ['rs184946026'], '136139833': ['rs141515001'], '136139968': ['rs782144886'], '136139967': ['rs587743474'], '136139863': ['rs782095868'], '136139873': ['rs746655603'], '136139914': ['rs187240396'], '136139864': ['rs782697011'], '136139955': ['rs8176679'], '136139961': ['rs150484570'], '136139812': ['rs138986090']}\n"
     ]
    }
   ],
   "source": [
    "print(loc_rsid_map)"
   ]
  },
  {
   "cell_type": "code",
   "execution_count": 224,
   "metadata": {
    "collapsed": true
   },
   "outputs": [],
   "source": [
    "from operator import itemgetter\n",
    "from itertools import groupby\n",
    "def group_continuous_diffs(clustalo_diffs):\n",
    "        groups = []\n",
    "        for _, j in groupby(enumerate(clustalo_diffs), lambda item: item[0] - item[1]):\n",
    "                groups.append(map(itemgetter(1), j))\n",
    "        return groups"
   ]
  },
  {
   "cell_type": "code",
   "execution_count": 225,
   "metadata": {
    "collapsed": true
   },
   "outputs": [],
   "source": [
    "diffs_list = group_continuous_diffs(indices)"
   ]
  },
  {
   "cell_type": "code",
   "execution_count": 226,
   "metadata": {},
   "outputs": [
    {
     "data": {
      "text/plain": [
       "{'136139812': ['rs138986090'],\n",
       " '136139833': ['rs141515001'],\n",
       " '136139863': ['rs782095868'],\n",
       " '136139864': ['rs782697011'],\n",
       " '136139873': ['rs746655603'],\n",
       " '136139907': ['rs782134971', 'rs149092047', 'rs60937319'],\n",
       " '136139913': ['rs184946026'],\n",
       " '136139914': ['rs187240396'],\n",
       " '136139955': ['rs8176679'],\n",
       " '136139961': ['rs150484570'],\n",
       " '136139967': ['rs587743474'],\n",
       " '136139968': ['rs782144886']}"
      ]
     },
     "execution_count": 226,
     "metadata": {},
     "output_type": "execute_result"
    }
   ],
   "source": [
    "loc_rsid_map"
   ]
  },
  {
   "cell_type": "code",
   "execution_count": 244,
   "metadata": {},
   "outputs": [
    {
     "name": "stdout",
     "output_type": "stream",
     "text": [
      "136139913-136139918, search range: 136139903-136139928\n",
      "(136139907, ['rs782134971', 'rs149092047', 'rs60937319'])\n",
      "(136139913, ['rs184946026'])\n",
      "(136139914, ['rs187240396'])\n",
      "\n",
      "136139922, search range: 136139912-136139932\n",
      "(136139913, ['rs184946026'])\n",
      "(136139914, ['rs187240396'])\n",
      "\n",
      "136139924, search range: 136139914-136139934\n",
      "(136139914, ['rs187240396'])\n",
      "\n"
     ]
    }
   ],
   "source": [
    "for diff in diffs_list:\n",
    "    if len(diff) > 1:\n",
    "        rsid_search_range = (diff[0] - 10, diff[-1] + 10)\n",
    "        print_fmt =\"{}-{}, search range: {}-{}\".format(diff[0], diff[-1], rsid_search_range[0], rsid_search_range[1])\n",
    "    else:\n",
    "        rsid_search_range = (diff[0] - 10, diff[0] + 10)\n",
    "        print_fmt = \"{}, search range: {}-{}\".format(diff[0], rsid_search_range[0], rsid_search_range[1])\n",
    "        \n",
    "    possible_rsids = []\n",
    "    for location in range(rsid_search_range[0], rsid_search_range[1] + 1):\n",
    "        try:\n",
    "            possible_rsids.append((location, loc_rsid_map[str(location)]))\n",
    "        except KeyError:\n",
    "            pass\n",
    "        \n",
    "    print(print_fmt)\n",
    "    for pos in possible_rsids:\n",
    "        print(pos)\n",
    "    print"
   ]
  },
  {
   "cell_type": "code",
   "execution_count": null,
   "metadata": {
    "collapsed": true
   },
   "outputs": [],
   "source": []
  }
 ],
 "metadata": {
  "kernelspec": {
   "display_name": "Python 2",
   "language": "python",
   "name": "python2"
  },
  "language_info": {
   "codemirror_mode": {
    "name": "ipython",
    "version": 2
   },
   "file_extension": ".py",
   "mimetype": "text/x-python",
   "name": "python",
   "nbconvert_exporter": "python",
   "pygments_lexer": "ipython2",
   "version": "2.7.12"
  }
 },
 "nbformat": 4,
 "nbformat_minor": 2
}
