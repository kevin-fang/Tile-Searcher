{
 "cells": [
  {
   "cell_type": "code",
   "execution_count": 1,
   "metadata": {
    "collapsed": true
   },
   "outputs": [],
   "source": [
    "import application, getTileVariants"
   ]
  },
  {
   "cell_type": "code",
   "execution_count": 2,
   "metadata": {
    "collapsed": true
   },
   "outputs": [],
   "source": [
    "tile = application.Tile(17644)"
   ]
  },
  {
   "cell_type": "code",
   "execution_count": 3,
   "metadata": {
    "scrolled": true
   },
   "outputs": [
    {
     "name": "stdout",
     "output_type": "stream",
     "text": [
      "Tile 17644 information:\n",
      "hg19:chr1:0008\t237408\t1330672\t15\t16\n",
      "Path: 0008\n",
      "Step: 0c23\n",
      "Phase: 0x0\n",
      "\n",
      "0c22\t  24748140\n",
      "0c23\t  24748365\n",
      "\n",
      "0008.00.0c23.000+1,716cc08c939e51accb43b347e6bbe143      cttgagtaatcttcacactagcactacacagtaggtccaggtttcctcctctgtggaata\n",
      "0008.00.0c23.001+1,dcef5bc9c06f051b13ab2b66e36a2ff6      cttgagtaatcttcacactagcactacacagtaggtccaggtttcctcctctgtggaata\n",
      "0008.00.0c23.002+1,9a925bca67417c44b28e17a0d268cd61      cttgagtaatcttcacactagcactacacagtaggtccaggtttcctcctctgtggaata\n",
      "0008.00.0c23.003+2,6a52c136b43f43064c290043730af941      cttgagtaatcttcacactagcactacacagtaggtccaggtttcctcctctgtggaata\n",
      "0008.00.0c23.004+2,42a5f08899baeef2ee5d952de0cb4d9e      cttgagtaatcttcacactagcactacacagtaggtccaggtttcctcctctgtggaata\n",
      "                                                         ************************************************************\n",
      "\n",
      "\n",
      "0008.00.0c23.000+1,716cc08c939e51accb43b347e6bbe143      gtaactgcctcctggtggtggtgaggatgaaatgaatttattcatgtgaagcccttaggc\n",
      "0008.00.0c23.001+1,dcef5bc9c06f051b13ab2b66e36a2ff6      gtaactgcctcctggtggtggtgaggatgaaatgaatttattcatgtgaagcccttaggc\n",
      "0008.00.0c23.002+1,9a925bca67417c44b28e17a0d268cd61      gtaactgcctcctggtggtggtgaggatgaaatgaatttattcatgtgaagcccttaggc\n",
      "0008.00.0c23.003+2,6a52c136b43f43064c290043730af941      gtaactgcctcctggtggtggtgaggatgaaatgaatttattcatgtgaagcccttaggc\n",
      "0008.00.0c23.004+2,42a5f08899baeef2ee5d952de0cb4d9e      gtaactgcctcctggtggtggtgaggatgaaatgaatttattcatgtgaagcccttaggc\n",
      "                                                         ************************************************************\n",
      "\n",
      "\n",
      "0008.00.0c23.000+1,716cc08c939e51accb43b347e6bbe143      aatgacccacacataatggccagtgtttgtcaagtgctagctgttaccatctttatcccc\n",
      "0008.00.0c23.001+1,dcef5bc9c06f051b13ab2b66e36a2ff6      aatgacccacacataatggccagtgtttgtcaagtgctagctgttaccatctttatcccc\n",
      "0008.00.0c23.002+1,9a925bca67417c44b28e17a0d268cd61      aatgacccacacataatggccagtgtttgtcaagtgctagctgttaccatctttatcccc\n",
      "0008.00.0c23.003+2,6a52c136b43f43064c290043730af941      aatgacccacacataatggccagtgtttgtcaagtgctagctgttaccatctttatcccc\n",
      "0008.00.0c23.004+2,42a5f08899baeef2ee5d952de0cb4d9e      aatgacccacacataatggccagtgtttgtcaagtgctagctgttaccatctttatcccc\n",
      "                                                         ************************************************************\n",
      "\n",
      "\n",
      "0008.00.0c23.000+1,716cc08c939e51accb43b347e6bbe143      actttagagacaaggagactgagacagagaagttcagtaatggccctgactggcacaact\n",
      "0008.00.0c23.001+1,dcef5bc9c06f051b13ab2b66e36a2ff6      actttagagacaaagagactgagacagagaagttcagtaatggccctgactggcacaact\n",
      "0008.00.0c23.002+1,9a925bca67417c44b28e17a0d268cd61      actttagagacaaggagactgagacagagaagttcagtaacggccctgactggcacaact\n",
      "0008.00.0c23.003+2,6a52c136b43f43064c290043730af941      actttagagacaaagagactgagacagagaagttcagtaatggccctgattggcacaact\n",
      "0008.00.0c23.004+2,42a5f08899baeef2ee5d952de0cb4d9e      actttagagacaaggagactgagacagagaagttcagtaatggccctgactggcacaact\n",
      "                                                         ************* ************************** ******** **********\n",
      "\n",
      "\n",
      "0008.00.0c23.000+1,716cc08c939e51accb43b347e6bbe143      agtaagttg---------------------------------------------------\n",
      "0008.00.0c23.001+1,dcef5bc9c06f051b13ab2b66e36a2ff6      agtaagttg---------------------------------------------------\n",
      "0008.00.0c23.002+1,9a925bca67417c44b28e17a0d268cd61      agtaagttg---------------------------------------------------\n",
      "0008.00.0c23.003+2,6a52c136b43f43064c290043730af941      agtaagttgtgcaaccagaatttaaacccgggtcagaccagctgcagaacccatgctcct\n",
      "0008.00.0c23.004+2,42a5f08899baeef2ee5d952de0cb4d9e      agtaagctgtgcaaccagaatttaaacccgggtcagaccagctgcagaacccatgctcct\n",
      "                                                         ****** **                                                   \n",
      "\n",
      "\n",
      "0008.00.0c23.000+1,716cc08c939e51accb43b347e6bbe143      ------------------------------------------------------------\n",
      "0008.00.0c23.001+1,dcef5bc9c06f051b13ab2b66e36a2ff6      ------------------------------------------------------------\n",
      "0008.00.0c23.002+1,9a925bca67417c44b28e17a0d268cd61      ------------------------------------------------------------\n",
      "0008.00.0c23.003+2,6a52c136b43f43064c290043730af941      aactgcggcgctgctctgactctccggtgtcctgactcctgctgctgccaccgcatccca\n",
      "0008.00.0c23.004+2,42a5f08899baeef2ee5d952de0cb4d9e      aactgcggcgctgctctgactctccggtgtcctgactcctgctgctgccaccgcatccca\n",
      "                                                                                                                     \n",
      "\n",
      "\n",
      "0008.00.0c23.000+1,716cc08c939e51accb43b347e6bbe143      ------------------------------------------------------------\n",
      "0008.00.0c23.001+1,dcef5bc9c06f051b13ab2b66e36a2ff6      ------------------------------------------------------------\n",
      "0008.00.0c23.002+1,9a925bca67417c44b28e17a0d268cd61      ------------------------------------------------------------\n",
      "0008.00.0c23.003+2,6a52c136b43f43064c290043730af941      gcatgcccaaggaggggactctgcaggtcattaaaggcttttgtcattttaattccttct\n",
      "0008.00.0c23.004+2,42a5f08899baeef2ee5d952de0cb4d9e      gcatgcccaaggaggggactctgcaggtcattaaaggcttttgtcattttaattccttct\n",
      "                                                                                                                     \n",
      "\n",
      "\n",
      "0008.00.0c23.000+1,716cc08c939e51accb43b347e6bbe143      ------------------------------------------------------\n",
      "0008.00.0c23.001+1,dcef5bc9c06f051b13ab2b66e36a2ff6      ------------------------------------------------------\n",
      "0008.00.0c23.002+1,9a925bca67417c44b28e17a0d268cd61      ------------------------------------------------------\n",
      "0008.00.0c23.003+2,6a52c136b43f43064c290043730af941      gaccagccagatggaatatgtatggaaattatgaacatttgtctggaattagac\n",
      "0008.00.0c23.004+2,42a5f08899baeef2ee5d952de0cb4d9e      gaccagccagatggaatatgtatggaaattatgaacatttgtctggaattagac\n",
      "                                                                                                               \n",
      "\n",
      "\n",
      "Variant diffs:\n",
      "\n",
      "Position on chromosome: 194, index of diff: 24748310\n",
      "\n",
      "Position on chromosome: 221, index of diff: 24748337\n",
      "\n",
      "Position on chromosome: 230, index of diff: 24748346\n",
      "\n",
      "Position on chromosome: 247, index of diff: 24748363\n",
      "\n",
      "Position range on chromosome: 250-474, index range: 24748366-24748590\n",
      "\n",
      "Finished search for tile 17644\n",
      "\n"
     ]
    }
   ],
   "source": [
    "info = getTileVariants.tile_iteration(tile)"
   ]
  },
  {
   "cell_type": "code",
   "execution_count": 6,
   "metadata": {
    "scrolled": false
   },
   "outputs": [
    {
     "data": {
      "text/plain": [
       "{'chrom': '1',\n",
       " 'path': '0008',\n",
       " 'position_end': '24748365',\n",
       " 'position_start': '24748140',\n",
       " 'step': '0c23'}"
      ]
     },
     "execution_count": 6,
     "metadata": {},
     "output_type": "execute_result"
    }
   ],
   "source": [
    "info.to_dict() # add stop and end"
   ]
  },
  {
   "cell_type": "code",
   "execution_count": 7,
   "metadata": {
    "collapsed": true
   },
   "outputs": [],
   "source": [
    "variants_all = info.variants.split('\\n')[:-1]"
   ]
  },
  {
   "cell_type": "code",
   "execution_count": 8,
   "metadata": {
    "scrolled": true
   },
   "outputs": [
    {
     "data": {
      "text/plain": [
       "[['0008.00.0c23.000+1',\n",
       "  '716cc08c939e51accb43b347e6bbe143',\n",
       "  'cttgagtaatcttcacactagcactacacagtaggtccaggtttcctcctctgtggaatagtaactgcctcctggtggtggtgaggatgaaatgaatttattcatgtgaagcccttaggcaatgacccacacataatggccagtgtttgtcaagtgctagctgttaccatctttatccccactttagagacaaggagactgagacagagaagttcagtaatggccctgactggcacaactagtaagttg'],\n",
       " ['0008.00.0c23.001+1',\n",
       "  'dcef5bc9c06f051b13ab2b66e36a2ff6',\n",
       "  'cttgagtaatcttcacactagcactacacagtaggtccaggtttcctcctctgtggaatagtaactgcctcctggtggtggtgaggatgaaatgaatttattcatgtgaagcccttaggcaatgacccacacataatggccagtgtttgtcaagtgctagctgttaccatctttatccccactttagagacaaagagactgagacagagaagttcagtaatggccctgactggcacaactagtaagttg'],\n",
       " ['0008.00.0c23.002+1',\n",
       "  '9a925bca67417c44b28e17a0d268cd61',\n",
       "  'cttgagtaatcttcacactagcactacacagtaggtccaggtttcctcctctgtggaatagtaactgcctcctggtggtggtgaggatgaaatgaatttattcatgtgaagcccttaggcaatgacccacacataatggccagtgtttgtcaagtgctagctgttaccatctttatccccactttagagacaaggagactgagacagagaagttcagtaacggccctgactggcacaactagtaagttg'],\n",
       " ['0008.00.0c23.003+2',\n",
       "  '6a52c136b43f43064c290043730af941',\n",
       "  'cttgagtaatcttcacactagcactacacagtaggtccaggtttcctcctctgtggaatagtaactgcctcctggtggtggtgaggatgaaatgaatttattcatgtgaagcccttaggcaatgacccacacataatggccagtgtttgtcaagtgctagctgttaccatctttatccccactttagagacaaagagactgagacagagaagttcagtaatggccctgattggcacaactagtaagttgtgcaaccagaatttaaacccgggtcagaccagctgcagaacccatgctcctaactgcggcgctgctctgactctccggtgtcctgactcctgctgctgccaccgcatcccagcatgcccaaggaggggactctgcaggtcattaaaggcttttgtcattttaattccttctgaccagccagatggaatatgtatggaaattatgaacatttgtctggaattagac'],\n",
       " ['0008.00.0c23.004+2',\n",
       "  '42a5f08899baeef2ee5d952de0cb4d9e',\n",
       "  'cttgagtaatcttcacactagcactacacagtaggtccaggtttcctcctctgtggaatagtaactgcctcctggtggtggtgaggatgaaatgaatttattcatgtgaagcccttaggcaatgacccacacataatggccagtgtttgtcaagtgctagctgttaccatctttatccccactttagagacaaggagactgagacagagaagttcagtaatggccctgactggcacaactagtaagctgtgcaaccagaatttaaacccgggtcagaccagctgcagaacccatgctcctaactgcggcgctgctctgactctccggtgtcctgactcctgctgctgccaccgcatcccagcatgcccaaggaggggactctgcaggtcattaaaggcttttgtcattttaattccttctgaccagccagatggaatatgtatggaaattatgaacatttgtctggaattagac']]"
      ]
     },
     "execution_count": 8,
     "metadata": {},
     "output_type": "execute_result"
    }
   ],
   "source": [
    "variants = [variant.split(\",\") for variant in variants_all]\n",
    "variants"
   ]
  },
  {
   "cell_type": "code",
   "execution_count": 55,
   "metadata": {},
   "outputs": [
    {
     "name": "stdout",
     "output_type": "stream",
     "text": [
      "(194, 24748310, '0008.00.0c23.001+1', 'G>A')\n",
      "(194, 24748310, '0008.00.0c23.003+2', 'G>A')\n",
      "(221, 24748337, '0008.00.0c23.002+1', 'T>C')\n",
      "(230, 24748346, '0008.00.0c23.003+2', 'C>T')\n",
      "(247, 24748363, '0008.00.0c23.004+2', 'T>C')\n",
      "Spanning tile: 0008.00.0c23.003+2\n",
      "Spanning tile: 0008.00.0c23.004+2\n"
     ]
    }
   ],
   "source": [
    "for diff_info in info.diffs_map:\n",
    "    # get the letter corresponding to the differing indices in the variants\n",
    "    sequences = [variant[2] for variant in variants]\n",
    "    diff_letters = []\n",
    "    if type(diff_info[0]) == int:\n",
    "        diff_idx = diff_info[0]\n",
    "        diff_pos = diff_info[1]\n",
    "        for sequence in sequences:\n",
    "            if diff_idx >= len(sequence):\n",
    "                diff_letters.append(\"_\")\n",
    "            else:\n",
    "                diff_letters.append(sequence[diff_idx - 1])\n",
    "\n",
    "        for i, letter in enumerate(diff_letters[1:]):\n",
    "            if letter != diff_letters[0] and diff_letters[0] != '_':\n",
    "                print(diff_idx, diff_pos, variants[i + 1][0], diff_letters[0].upper() + \">\" + letter.upper())\n",
    "    else:\n",
    "        diff_start = diff_info[0][0]\n",
    "        diff_end = diff_info[0][1]\n",
    "        diff_pos = diff_info[1]\n",
    "        for i, sequence in enumerate(sequences[1:]):\n",
    "            if diff_start < len(sequence):\n",
    "                print(\"Spanning tile: \" + variants[i + 1][0])"
   ]
  },
  {
   "cell_type": "code",
   "execution_count": 42,
   "metadata": {},
   "outputs": [],
   "source": [
    "first_seq = variants[3][2]\n",
    "second_seq = variants[4][2]"
   ]
  },
  {
   "cell_type": "code",
   "execution_count": 53,
   "metadata": {},
   "outputs": [
    {
     "name": "stdout",
     "output_type": "stream",
     "text": [
      "cc tt tt gg aa gg tt aa aa tt cc tt tt cc aa cc aa cc tt aa gg cc aa cc tt aa cc aa cc aa gg tt aa gg gg tt cc cc aa gg gg tt tt tt cc cc tt cc cc tt cc tt gg tt gg gg aa aa tt aa gg tt aa aa cc tt gg cc cc tt cc cc tt gg gg tt gg gg tt gg gg tt gg aa gg gg aa tt gg aa aa aa tt gg aa aa tt tt tt aa tt tt cc aa tt gg tt gg aa aa gg cc cc cc tt tt aa gg gg cc aa aa tt gg aa cc cc cc aa cc aa cc aa tt aa aa tt gg gg cc cc aa gg tt gg tt tt tt gg tt cc aa aa gg tt gg cc tt aa gg cc tt gg tt tt aa cc cc aa tt cc tt tt tt aa tt cc cc cc cc aa cc tt tt tt aa gg aa gg aa cc aa aa ('Diff', 'ag') 193\n",
      "gg aa gg aa cc tt gg aa gg aa cc aa gg aa gg aa aa gg tt tt cc aa gg tt aa aa tt gg gg cc cc cc tt gg aa ('Diff', 'tc') 229\n",
      "tt gg gg cc aa cc aa aa cc tt aa gg tt aa aa gg ('Diff', 'tc') 246\n",
      "tt gg tt gg cc aa aa cc cc aa gg aa aa tt tt tt aa aa aa cc cc cc gg gg gg tt cc aa gg aa cc cc aa gg cc tt gg cc aa gg aa aa cc cc cc aa tt gg cc tt cc cc tt aa aa cc tt gg cc gg gg cc gg cc tt gg cc tt cc tt gg aa cc tt cc tt cc cc gg gg tt gg tt cc cc tt gg aa cc tt cc cc tt gg cc tt gg cc tt gg cc cc aa cc cc gg cc aa tt cc cc cc aa gg cc aa tt gg cc cc cc aa aa gg gg aa gg gg gg gg aa cc tt cc tt gg cc aa gg gg tt cc aa tt tt aa aa aa gg gg cc tt tt tt tt gg tt cc aa tt tt tt tt aa aa tt tt cc cc tt tt cc tt gg aa cc cc aa gg cc cc aa gg aa tt gg gg aa aa tt aa tt gg tt aa tt gg gg aa aa aa tt tt aa tt gg aa aa cc aa tt tt tt gg tt cc tt gg gg aa aa tt tt aa gg aa cc\n"
     ]
    }
   ],
   "source": [
    "for i, letter in enumerate(first_seq):\n",
    "    if letter != second_seq[i]:\n",
    "        print(\"Diff\", letter + second_seq[i]),\n",
    "        print(i)\n",
    "    else:\n",
    "        print(letter + second_seq[i]),"
   ]
  },
  {
   "cell_type": "code",
   "execution_count": null,
   "metadata": {
    "collapsed": true
   },
   "outputs": [],
   "source": []
  }
 ],
 "metadata": {
  "kernelspec": {
   "display_name": "Python 2",
   "language": "python",
   "name": "python2"
  },
  "language_info": {
   "codemirror_mode": {
    "name": "ipython",
    "version": 2
   },
   "file_extension": ".py",
   "mimetype": "text/x-python",
   "name": "python",
   "nbconvert_exporter": "python",
   "pygments_lexer": "ipython2",
   "version": "2.7.12"
  }
 },
 "nbformat": 4,
 "nbformat_minor": 2
}
