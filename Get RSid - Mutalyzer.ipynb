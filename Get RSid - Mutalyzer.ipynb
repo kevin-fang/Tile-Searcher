{
 "cells": [
  {
   "cell_type": "code",
   "execution_count": 23,
   "metadata": {
    "collapsed": true
   },
   "outputs": [],
   "source": [
    "tile_idx = 1000\n",
    "varval = 1"
   ]
  },
  {
   "cell_type": "code",
   "execution_count": 24,
   "metadata": {},
   "outputs": [],
   "source": [
    "import application, getTileVariants\n",
    "import subprocess"
   ]
  },
  {
   "cell_type": "code",
   "execution_count": 25,
   "metadata": {
    "collapsed": true
   },
   "outputs": [],
   "source": [
    "tile = application.Tile(tile_idx)"
   ]
  },
  {
   "cell_type": "code",
   "execution_count": 26,
   "metadata": {},
   "outputs": [
    {
     "name": "stdout",
     "output_type": "stream",
     "text": [
      "Tile 1000 information:\n",
      "hg19:chr1:0000\t86928\t16\t15\t16\n",
      "Path: 0000\n",
      "Step: 01f4\n",
      "Phase: 0x0\n",
      "\n",
      "01f3\t    905241\n",
      "01f4\t    905567\n",
      "\n",
      "0000.00.01f4.000+1,9dcc45785965e225a4a5429eb7480239      gcatgtgcacgtatcgggtgtgtgtgcgtgtacgtgtacacgaatatgcatgtatgcata\n",
      "0000.00.01f4.001+2,7670df4c6b48954680cece2d9b6a52f5      gcatgtgcacgtatcgggtgtgtgtgcgtgtacgtgtacacgaatatgcatgtatgcata\n",
      "0000.00.01f4.002+1,e7ff06f43d4a98b7bf93a21ca092bc07      gcatgtgcacgtatcgggtgtgtgtgcatgtacgtgtacacgaatatgcatgtatgcata\n",
      "0000.00.01f4.003+1,25db2d26004a8809623a687c88262c7f      gcatgtgcacgtatcgggtgtgtgtgcgtgtacgtgtacacgaatatgcatgtatgcata\n",
      "0000.00.01f4.004+1,491e759b8a13d06d846c6e32cc4095c8      gcatgtgcacgtatcgggtgtgtgggcgtgtacgtgtacacgaatatgcatgtatgcata\n",
      "0000.00.01f4.005+2,7489345701c910400c52ecab04a51572      gcatgtgcacgtatcgggtgtgtgtgcgtgtacgtgtacacgaatatgcatgtatgcata\n",
      "0000.00.01f4.006+1,cf5fb6dba3fedfa32cbbdc682d8787b9      gcatgtgcacgtatcgggtgtgtgggcgtgtacgtgtacacgaatatgcatgtatgcata\n",
      "0000.00.01f4.007+1,62e1a73aee918c3bab5a1b9b16b7d941      gcatgtgcacgtatcgggtgtgtgtgcgtgtacgtgtacacgaatatgcatgtatgcata\n",
      "0000.00.01f4.008+1,5242f5911cc9e606942d34892b8d4508      gcatgtgcacgtatcgggtgtgtgtgcgtgtacgtgtacacgaatatgcatgtatgcata\n",
      "0000.00.01f4.009+2,0a1831f382a15f4593640e999c4a641c      gcatgtgcacgtatcgggtgtgtgtgcgtgtacgtgtacacgaatatgcatgtatgcata\n",
      "0000.00.01f4.00a+2,8cf4bfd9b018d5b60b8a7722a029f2aa      gcatgtgcacgtatcgggtgtgtgtgcgtgtacgtgtacacgaatatgcatgtatgcata\n",
      "                                                         ************************ ** ********************************\n",
      "\n",
      "\n",
      "0000.00.01f4.000+1,9dcc45785965e225a4a5429eb7480239      tatgtatgcacgtgtgtgtaaattctgccgtgactgttttcctgtggaaaggctgagtgt\n",
      "0000.00.01f4.001+2,7670df4c6b48954680cece2d9b6a52f5      tatgtatgcacgtgtgtgtaaattctgccgtgactgttttcctgtggaaaggctgagtgt\n",
      "0000.00.01f4.002+1,e7ff06f43d4a98b7bf93a21ca092bc07      tatgtatgcacgtgtgtgtaaattctgccgtgactgttttcctgtggaaaggctgagtgt\n",
      "0000.00.01f4.003+1,25db2d26004a8809623a687c88262c7f      tatgtatgcacgtgtgtgtaaattctgccatgactgttttcctgtggaaaggctgagtgt\n",
      "0000.00.01f4.004+1,491e759b8a13d06d846c6e32cc4095c8      tatgtatgcacgtgtgtgtaaattctgccgtgactgttttcctgtggaaaggctgagtgt\n",
      "0000.00.01f4.005+2,7489345701c910400c52ecab04a51572      tatgtatgcacgtgtgtgtaaattctgccgtgactgttttcctgtggaaaggctgagtgt\n",
      "0000.00.01f4.006+1,cf5fb6dba3fedfa32cbbdc682d8787b9      tatgtatgcacgtgtgtgtaaattctgccgtgactgttttcctgtggaaaggctgagtgt\n",
      "0000.00.01f4.007+1,62e1a73aee918c3bab5a1b9b16b7d941      tatgtatgcacgtgtgtataaattctgccgtgactgttttcctgtggaaaggctgagtgt\n",
      "0000.00.01f4.008+1,5242f5911cc9e606942d34892b8d4508      tatgtatgcacgtgtgtgtaaattctgccgtgactgttttcctgtggaaaggctgagtgt\n",
      "0000.00.01f4.009+2,0a1831f382a15f4593640e999c4a641c      tatgtatgcacgtgtgtgtaaattctgccgtgactgttttcctgtggaaaggctgagtgt\n",
      "0000.00.01f4.00a+2,8cf4bfd9b018d5b60b8a7722a029f2aa      tatgtatgcacgtgtgtgtaaattctgccgtgactgttttcctgtggaaaggctgagtgt\n",
      "                                                         ***************** *********** ******************************\n",
      "\n",
      "\n",
      "0000.00.01f4.000+1,9dcc45785965e225a4a5429eb7480239      gcaggttctgtgcctgtggggggctgttcttcacgtatgtgttgtgtggctgtgcacagg\n",
      "0000.00.01f4.001+2,7670df4c6b48954680cece2d9b6a52f5      gcaggttctgtgcctgtggggggctgttcttcacgtatgtgttgtgtggctgtgcacagg\n",
      "0000.00.01f4.002+1,e7ff06f43d4a98b7bf93a21ca092bc07      gcaggttctgtgcctgtggggggctgttcttcacgtatgtgttgtgtggctgtgcacagg\n",
      "0000.00.01f4.003+1,25db2d26004a8809623a687c88262c7f      gcaggttctgtgcctgtggggggctgttcttcacgtatgtgttgtgtggctgtgcacagg\n",
      "0000.00.01f4.004+1,491e759b8a13d06d846c6e32cc4095c8      gcaggttctgtgcctgtggggggctgttcttcacgtatgtgttgtgtggctgtgcacagg\n",
      "0000.00.01f4.005+2,7489345701c910400c52ecab04a51572      gcaggttctgtgcctgtggggggctgttcttcacgtatgtgttgtgtggctgtgcacagg\n",
      "0000.00.01f4.006+1,cf5fb6dba3fedfa32cbbdc682d8787b9      gcaggttctgtgcctgtggggggctgttcttcacgtatgtgttgtgtggctgtgcacagg\n",
      "0000.00.01f4.007+1,62e1a73aee918c3bab5a1b9b16b7d941      gcaggttctgtgcctgtggggggctgttcttcacgtatgtgttgtgtggctgtgcacagg\n",
      "0000.00.01f4.008+1,5242f5911cc9e606942d34892b8d4508      gcaggttctgtgcctgtggg-ggctgttcttcacgtatgtgttgtgtggctgtgcaaagg\n",
      "0000.00.01f4.009+2,0a1831f382a15f4593640e999c4a641c      gcaggttctgtgcctgtggggggctgttcttcacgtatgtgttgtgtggctgtgcacagg\n",
      "0000.00.01f4.00a+2,8cf4bfd9b018d5b60b8a7722a029f2aa      gcaggttctgtgcctgtggggggctgttcttcacgtatgtgttgtgtggctgtgcacagg\n",
      "                                                         ******************** *********************************** ***\n",
      "\n",
      "\n",
      "0000.00.01f4.000+1,9dcc45785965e225a4a5429eb7480239      ttctgtgcctgtggggggctgttcttcacgtatgtgttgtgtggctgtgcacaggttctg\n",
      "0000.00.01f4.001+2,7670df4c6b48954680cece2d9b6a52f5      ttctgtgcctgtggggggctgttcttcacgtatgtgttgtgtggctgtgcacaggttctg\n",
      "0000.00.01f4.002+1,e7ff06f43d4a98b7bf93a21ca092bc07      ttctgtgcctgtggggggctgttcttcacgtatgtgttgtgtggctgtgcacaggttctg\n",
      "0000.00.01f4.003+1,25db2d26004a8809623a687c88262c7f      ttctgtgcctgtggggggctgttcttcacgtatgtgttgtgtggctgtgcacaggttctg\n",
      "0000.00.01f4.004+1,491e759b8a13d06d846c6e32cc4095c8      ttctgtgcctgtggggggctgttcttcacgtatgtgttgtgtggctgtgcacaggttctg\n",
      "0000.00.01f4.005+2,7489345701c910400c52ecab04a51572      ttctgtgcctgtagggggctgttcttcacgtatgtgttgtgtggctgtgcacaggttctg\n",
      "0000.00.01f4.006+1,cf5fb6dba3fedfa32cbbdc682d8787b9      ttctgtgcctgtggggggctgttcttcacgtatgtgttgtgtggctgtgcacaggttctg\n",
      "0000.00.01f4.007+1,62e1a73aee918c3bab5a1b9b16b7d941      ttctgtgcctgtggggggctgttcttcacgtatgtgttgtgtggctgtgcacaggttctg\n",
      "0000.00.01f4.008+1,5242f5911cc9e606942d34892b8d4508      ttctgtgcatgtggggggctgttcttcacgtatgtgttgtgtggctgtgcacaggttctg\n",
      "0000.00.01f4.009+2,0a1831f382a15f4593640e999c4a641c      ttctgtgcctgtagggggctgttcttcacgtatgtgttgtgtggctgtgcacaggttctg\n",
      "0000.00.01f4.00a+2,8cf4bfd9b018d5b60b8a7722a029f2aa      ttctgtgcctgtggggggctgttcttcacgtatgtgttgtgtggctgtgcacaggttctg\n",
      "                                                         ******** *** ***********************************************\n",
      "\n",
      "\n",
      "0000.00.01f4.000+1,9dcc45785965e225a4a5429eb7480239      tgcctgtggggggctgttcttcacgtatgtgttgtgtggctgtgcacaggttctgtgcct\n",
      "0000.00.01f4.001+2,7670df4c6b48954680cece2d9b6a52f5      tgcctgtggggggctgttcttcacgtatgtgttgtgtggctgtgcacaggttctgtgcct\n",
      "0000.00.01f4.002+1,e7ff06f43d4a98b7bf93a21ca092bc07      tgcctgtggggggctgttcttcacgtatgtgttgtgtggctgtgcacaggttctgtgcct\n",
      "0000.00.01f4.003+1,25db2d26004a8809623a687c88262c7f      tgcctgtggggggctgttcttcacgtatgtgttgtgtggctgtgcacaggttctgtgcct\n",
      "0000.00.01f4.004+1,491e759b8a13d06d846c6e32cc4095c8      tgcctgtggggggctgttcttcacgtatgtgttgtgtggctgtgcacaggttctgtgcct\n",
      "0000.00.01f4.005+2,7489345701c910400c52ecab04a51572      tgcctgtggggggctgttcttcacgtatgtgttgtgtggctgtgcacaggttctgtgcct\n",
      "0000.00.01f4.006+1,cf5fb6dba3fedfa32cbbdc682d8787b9      tgcctgtggggggctgttcttcacgtatgatgtgtgtggctgtgcacaggttctgtgcct\n",
      "0000.00.01f4.007+1,62e1a73aee918c3bab5a1b9b16b7d941      tgcctgtggggggctgttcttcacgtatgtgttgtgtggctgtgcacaggttctgtgcct\n",
      "0000.00.01f4.008+1,5242f5911cc9e606942d34892b8d4508      tgcctgtggggggctgttcttcacgtatgtgttgtgtggctgtgcacaggttctgtgcct\n",
      "0000.00.01f4.009+2,0a1831f382a15f4593640e999c4a641c      tgcctgtggggggctgttcttcacgtatgtgttgtgtggctgtgcacaggttctgtgcct\n",
      "0000.00.01f4.00a+2,8cf4bfd9b018d5b60b8a7722a029f2aa      tgcctgtggggggctgttcttcacgtatgtgttgtgtggctgtgcacaggttctgtgcct\n",
      "                                                         *****************************   ****************************\n",
      "\n",
      "\n",
      "0000.00.01f4.000+1,9dcc45785965e225a4a5429eb7480239      gtggggggctgttcttcacatatgtgttgtgtggctatgcacaggcagac----------\n",
      "0000.00.01f4.001+2,7670df4c6b48954680cece2d9b6a52f5      gtggggggctgttcttcacatatgtgttgtgtggctttgcacaggcagaccatgctatag\n",
      "0000.00.01f4.002+1,e7ff06f43d4a98b7bf93a21ca092bc07      gtggggggctgttcttcacatatgtgttgtgtggctatgcacaggcagac----------\n",
      "0000.00.01f4.003+1,25db2d26004a8809623a687c88262c7f      gtggggggctgttcttcacatatgtgttgtgtggctatgcacaggcagac----------\n",
      "0000.00.01f4.004+1,491e759b8a13d06d846c6e32cc4095c8      gtggggggctgttcttcacatatgtgttgtgtggctatgcacaggcagac----------\n",
      "0000.00.01f4.005+2,7489345701c910400c52ecab04a51572      gtggggggctgttcttcacatatgtgttgtgtggctttgcacaggcagaccatgctatag\n",
      "0000.00.01f4.006+1,cf5fb6dba3fedfa32cbbdc682d8787b9      gtggggggctgttcttcacatatgtgttgtgtggctatgcacaggcagac----------\n",
      "0000.00.01f4.007+1,62e1a73aee918c3bab5a1b9b16b7d941      gtggggggctgttcttcacatatgtgttgtgtggctatgcacaggcagac----------\n",
      "0000.00.01f4.008+1,5242f5911cc9e606942d34892b8d4508      gtggggggctgttcttcacatatgtgttgtgtggctatgcacaggcagac----------\n",
      "0000.00.01f4.009+2,0a1831f382a15f4593640e999c4a641c      gtggggggctgttcttcacatatgtgttgtgtggccatgcacaggcagaccatgctatag\n",
      "0000.00.01f4.00a+2,8cf4bfd9b018d5b60b8a7722a029f2aa      gtggggggctgttcttcacatatgtgttgtgtggccatgcacaggcagaccatgctatag\n",
      "                                                         ***********************************  *************          \n",
      "\n",
      "\n",
      "0000.00.01f4.000+1,9dcc45785965e225a4a5429eb7480239      ------------------------------------------------------------\n",
      "0000.00.01f4.001+2,7670df4c6b48954680cece2d9b6a52f5      tcctgtagctgtgtggatgcgagcggagggggtggggggcccaggggaggccccctcccc\n",
      "0000.00.01f4.002+1,e7ff06f43d4a98b7bf93a21ca092bc07      ------------------------------------------------------------\n",
      "0000.00.01f4.003+1,25db2d26004a8809623a687c88262c7f      ------------------------------------------------------------\n",
      "0000.00.01f4.004+1,491e759b8a13d06d846c6e32cc4095c8      ------------------------------------------------------------\n",
      "0000.00.01f4.005+2,7489345701c910400c52ecab04a51572      tcctgtagctgtgtggatgcgagcggagggggtggggggcccaggggaggccccctcccc\n",
      "0000.00.01f4.006+1,cf5fb6dba3fedfa32cbbdc682d8787b9      ------------------------------------------------------------\n",
      "0000.00.01f4.007+1,62e1a73aee918c3bab5a1b9b16b7d941      ------------------------------------------------------------\n",
      "0000.00.01f4.008+1,5242f5911cc9e606942d34892b8d4508      ------------------------------------------------------------\n",
      "0000.00.01f4.009+2,0a1831f382a15f4593640e999c4a641c      tcctgtagctgtgtggatgcgagcggagggggtggggggcccaggggaggccccctcccc\n",
      "0000.00.01f4.00a+2,8cf4bfd9b018d5b60b8a7722a029f2aa      tcctgtagctgtgtggatgcgagcggagggggtggggggcccaggggaggccccctcccc\n",
      "                                                                                                                     \n",
      "\n",
      "\n",
      "0000.00.01f4.000+1,9dcc45785965e225a4a5429eb7480239      ------------------------------------------------------------\n",
      "0000.00.01f4.001+2,7670df4c6b48954680cece2d9b6a52f5      tgagctctactcctcctaggacatcctggacctggagaaccagcgagaaaacctggagca\n",
      "0000.00.01f4.002+1,e7ff06f43d4a98b7bf93a21ca092bc07      ------------------------------------------------------------\n",
      "0000.00.01f4.003+1,25db2d26004a8809623a687c88262c7f      ------------------------------------------------------------\n",
      "0000.00.01f4.004+1,491e759b8a13d06d846c6e32cc4095c8      ------------------------------------------------------------\n",
      "0000.00.01f4.005+2,7489345701c910400c52ecab04a51572      tgagctctactcctcctaggacatcctggacctggagaaccagcgagaaaacctggagca\n",
      "0000.00.01f4.006+1,cf5fb6dba3fedfa32cbbdc682d8787b9      ------------------------------------------------------------\n",
      "0000.00.01f4.007+1,62e1a73aee918c3bab5a1b9b16b7d941      ------------------------------------------------------------\n",
      "0000.00.01f4.008+1,5242f5911cc9e606942d34892b8d4508      ------------------------------------------------------------\n",
      "0000.00.01f4.009+2,0a1831f382a15f4593640e999c4a641c      tgagctctactcctcctaggacatcctggacctggagaaccagcgagaaaacctggagca\n",
      "0000.00.01f4.00a+2,8cf4bfd9b018d5b60b8a7722a029f2aa      tgagctctactcctcctaggacatcctggacctggagaaccagcgagaaaacctggagca\n",
      "                                                                                                                     \n",
      "\n",
      "\n",
      "0000.00.01f4.000+1,9dcc45785965e225a4a5429eb7480239      ------------------------------------------------------------\n",
      "0000.00.01f4.001+2,7670df4c6b48954680cece2d9b6a52f5      gccattcctgagtgtgttcaagaaggggcggcggagggtgcctgtgaggaacctgggaaa\n",
      "0000.00.01f4.002+1,e7ff06f43d4a98b7bf93a21ca092bc07      ------------------------------------------------------------\n",
      "0000.00.01f4.003+1,25db2d26004a8809623a687c88262c7f      ------------------------------------------------------------\n",
      "0000.00.01f4.004+1,491e759b8a13d06d846c6e32cc4095c8      ------------------------------------------------------------\n",
      "0000.00.01f4.005+2,7489345701c910400c52ecab04a51572      gccattcctgagtgtgttcaagaaggggcggcggagggtgcctgtgaggaacctgggaaa\n",
      "0000.00.01f4.006+1,cf5fb6dba3fedfa32cbbdc682d8787b9      ------------------------------------------------------------\n",
      "0000.00.01f4.007+1,62e1a73aee918c3bab5a1b9b16b7d941      ------------------------------------------------------------\n",
      "0000.00.01f4.008+1,5242f5911cc9e606942d34892b8d4508      ------------------------------------------------------------\n",
      "0000.00.01f4.009+2,0a1831f382a15f4593640e999c4a641c      gccattcctgagtgtgttcaagaaggggcggcggagggtgcctgtgaggaacctgggaaa\n",
      "0000.00.01f4.00a+2,8cf4bfd9b018d5b60b8a7722a029f2aa      gccattcctgagtgtgttcaagaaggggcggcggagggtgcctgtgaggaacctgggaaa\n",
      "                                                                                                                     \n",
      "\n",
      "\n",
      "0000.00.01f4.000+1,9dcc45785965e225a4a5429eb7480239      -----------------------------------\n",
      "0000.00.01f4.001+2,7670df4c6b48954680cece2d9b6a52f5      agttgtgcattacgccaaggtccagctgcggttcc\n",
      "0000.00.01f4.002+1,e7ff06f43d4a98b7bf93a21ca092bc07      -----------------------------------\n",
      "0000.00.01f4.003+1,25db2d26004a8809623a687c88262c7f      -----------------------------------\n",
      "0000.00.01f4.004+1,491e759b8a13d06d846c6e32cc4095c8      -----------------------------------\n",
      "0000.00.01f4.005+2,7489345701c910400c52ecab04a51572      agttgtgcattacgccaaggtccagctgcggttcc\n",
      "0000.00.01f4.006+1,cf5fb6dba3fedfa32cbbdc682d8787b9      -----------------------------------\n",
      "0000.00.01f4.007+1,62e1a73aee918c3bab5a1b9b16b7d941      -----------------------------------\n",
      "0000.00.01f4.008+1,5242f5911cc9e606942d34892b8d4508      -----------------------------------\n",
      "0000.00.01f4.009+2,0a1831f382a15f4593640e999c4a641c      agttgtgcattacgccaaggtccagctgcggttcc\n",
      "0000.00.01f4.00a+2,8cf4bfd9b018d5b60b8a7722a029f2aa      agttgtgcattacgccaaggtccagctgcggttcc\n",
      "                                                                                            \n",
      "\n",
      "\n",
      "Variant diffs:\n",
      "\n",
      "Position on chromosome: 25, index of diff: 905242\n",
      "\n",
      "Position on chromosome: 28, index of diff: 905245\n",
      "\n",
      "Position on chromosome: 78, index of diff: 905295\n",
      "\n",
      "Position on chromosome: 90, index of diff: 905307\n",
      "\n",
      "Position on chromosome: 141, index of diff: 905358\n",
      "\n",
      "Position on chromosome: 177, index of diff: 905394\n",
      "\n",
      "Position on chromosome: 189, index of diff: 905406\n",
      "\n",
      "Position on chromosome: 193, index of diff: 905410\n",
      "\n",
      "Position range on chromosome: 270-272, index range: 905487-905489\n",
      "\n",
      "Position range on chromosome: 336-337, index range: 905553-905554\n",
      "\n",
      "Position range on chromosome: 351-575, index range: 905568-905792\n",
      "\n",
      "Finished search for tile 1000\n",
      "\n"
     ]
    }
   ],
   "source": [
    "info_tile = getTileVariants.tile_iteration(tile, all_functionality = True)#, out=\"suppress\")"
   ]
  },
  {
   "cell_type": "code",
   "execution_count": 27,
   "metadata": {
    "scrolled": true
   },
   "outputs": [
    {
     "data": {
      "text/plain": [
       "{'chrom': '1',\n",
       " 'path': '0000',\n",
       " 'position_end': '905567',\n",
       " 'position_start': '905241',\n",
       " 'step': '01f4'}"
      ]
     },
     "execution_count": 27,
     "metadata": {},
     "output_type": "execute_result"
    }
   ],
   "source": [
    "info_tile.to_dict()"
   ]
  },
  {
   "cell_type": "code",
   "execution_count": 28,
   "metadata": {
    "collapsed": true
   },
   "outputs": [],
   "source": [
    "tile_variant = info_tile.variants.split('\\n')[varval].upper()\n",
    "common_variant = info_tile.variants.split('\\n')[0].upper()"
   ]
  },
  {
   "cell_type": "code",
   "execution_count": 29,
   "metadata": {
    "scrolled": true
   },
   "outputs": [
    {
     "name": "stdout",
     "output_type": "stream",
     "text": [
      "0000.00.01F4.000+1,9DCC45785965E225A4A5429EB7480239,GCATGTGCACGTATCGGGTGTGTGTGCGTGTACGTGTACACGAATATGCATGTATGCATATATGTATGCACGTGTGTGTAAATTCTGCCGTGACTGTTTTCCTGTGGAAAGGCTGAGTGTGCAGGTTCTGTGCCTGTGGGGGGCTGTTCTTCACGTATGTGTTGTGTGGCTGTGCACAGGTTCTGTGCCTGTGGGGGGCTGTTCTTCACGTATGTGTTGTGTGGCTGTGCACAGGTTCTGTGCCTGTGGGGGGCTGTTCTTCACGTATGTGTTGTGTGGCTGTGCACAGGTTCTGTGCCTGTGGGGGGCTGTTCTTCACATATGTGTTGTGTGGCTATGCACAGGCAGAC\n",
      "0000.00.01F4.001+2,7670DF4C6B48954680CECE2D9B6A52F5,GCATGTGCACGTATCGGGTGTGTGTGCGTGTACGTGTACACGAATATGCATGTATGCATATATGTATGCACGTGTGTGTAAATTCTGCCGTGACTGTTTTCCTGTGGAAAGGCTGAGTGTGCAGGTTCTGTGCCTGTGGGGGGCTGTTCTTCACGTATGTGTTGTGTGGCTGTGCACAGGTTCTGTGCCTGTGGGGGGCTGTTCTTCACGTATGTGTTGTGTGGCTGTGCACAGGTTCTGTGCCTGTGGGGGGCTGTTCTTCACGTATGTGTTGTGTGGCTGTGCACAGGTTCTGTGCCTGTGGGGGGCTGTTCTTCACATATGTGTTGTGTGGCTTTGCACAGGCAGACCATGCTATAGTCCTGTAGCTGTGTGGATGCGAGCGGAGGGGGTGGGGGGCCCAGGGGAGGCCCCCTCCCCTGAGCTCTACTCCTCCTAGGACATCCTGGACCTGGAGAACCAGCGAGAAAACCTGGAGCAGCCATTCCTGAGTGTGTTCAAGAAGGGGCGGCGGAGGGTGCCTGTGAGGAACCTGGGAAAAGTTGTGCATTACGCCAAGGTCCAGCTGCGGTTCC\n"
     ]
    }
   ],
   "source": [
    "print(common_variant)\n",
    "print(tile_variant)"
   ]
  },
  {
   "cell_type": "code",
   "execution_count": 30,
   "metadata": {
    "collapsed": true
   },
   "outputs": [],
   "source": [
    "from extractor import describe_dna"
   ]
  },
  {
   "cell_type": "code",
   "execution_count": 31,
   "metadata": {
    "collapsed": true
   },
   "outputs": [],
   "source": [
    "tile_seq = tile_variant.split(',')[2]\n",
    "common_seq = common_variant.split(',')[2]"
   ]
  },
  {
   "cell_type": "code",
   "execution_count": 32,
   "metadata": {
    "scrolled": true
   },
   "outputs": [
    {
     "name": "stdout",
     "output_type": "stream",
     "text": [
      "[337A>T;349_350ins[CCATGCTATAGTCCTGTAGC;163_169;ATGCGAGCGGAGGGG;136_144;CCAGGGGAGGCCCCCTCCCCTGAGCTCTACTCCTCCTAGGACATCCTGGACCTGGAGAACCAGCGAGAAAACCTGGAGCAGCCATTC;113_121;TTCAAGAAGGGGCGGCGGAGG;130_138;AGGAACCTGGGAAAAGTTGTGCATTACGCCAAGGTCCAGCTGCGGTTC]]\n"
     ]
    }
   ],
   "source": [
    "print(describe_dna(common_seq, tile_seq))"
   ]
  },
  {
   "cell_type": "code",
   "execution_count": 33,
   "metadata": {
    "collapsed": true
   },
   "outputs": [],
   "source": [
    "allele = describe_dna(common_seq, tile_seq)\n",
    "change = str(allele)\n",
    "# another possibility is [5_6insTT;17del;26A>C;35dup]"
   ]
  },
  {
   "cell_type": "code",
   "execution_count": 44,
   "metadata": {},
   "outputs": [
    {
     "data": {
      "text/plain": [
       "'[337A>T;349_350ins[CCATGCTATAGTCCTGTAGC;163_169;ATGCGAGCGGAGGGG;136_144;CCAGGGGAGGCCCCCTCCCCTGAGCTCTACTCCTCCTAGGACATCCTGGACCTGGAGAACCAGCGAGAAAACCTGGAGCAGCCATTC;113_121;TTCAAGAAGGGGCGGCGGAGG;130_138;AGGAACCTGGGAAAAGTTGTGCATTACGCCAAGGTCCAGCTGCGGTTC]]'"
      ]
     },
     "execution_count": 44,
     "metadata": {},
     "output_type": "execute_result"
    }
   ],
   "source": [
    "str(allele)"
   ]
  },
  {
   "cell_type": "code",
   "execution_count": 42,
   "metadata": {
    "scrolled": true
   },
   "outputs": [
    {
     "data": {
      "text/plain": [
       "'337A>T'"
      ]
     },
     "execution_count": 42,
     "metadata": {},
     "output_type": "execute_result"
    }
   ],
   "source": [
    "str(allele.items[0])"
   ]
  },
  {
   "cell_type": "code",
   "execution_count": 43,
   "metadata": {},
   "outputs": [
    {
     "data": {
      "text/plain": [
       "'349_350ins[CCATGCTATAGTCCTGTAGC;163_169;ATGCGAGCGGAGGGG;136_144;CCAGGGGAGGCCCCCTCCCCTGAGCTCTACTCCTCCTAGGACATCCTGGACCTGGAGAACCAGCGAGAAAACCTGGAGCAGCCATTC;113_121;TTCAAGAAGGGGCGGCGGAGG;130_138;AGGAACCTGGGAAAAGTTGTGCATTACGCCAAGGTCCAGCTGCGGTTC]'"
      ]
     },
     "execution_count": 43,
     "metadata": {},
     "output_type": "execute_result"
    }
   ],
   "source": [
    "str(allele.items[1])"
   ]
  },
  {
   "cell_type": "code",
   "execution_count": 34,
   "metadata": {},
   "outputs": [],
   "source": [
    "ref_vcf = \"./keep/by_id/su92l-4zz18-v96bt8gwbsini81/GRCh37p13.vcf.gz\"\n",
    "class Mutation:\n",
    "    def __init__(self, start,change, mutation_type, chrom, stop=-1, pre_offsetted=False):\n",
    "        self.start = int(start)\n",
    "        self.stop = int(stop)\n",
    "        self.change = change\n",
    "        self.mutation_type = mutation_type\n",
    "        self.offsetted = pre_offsetted\n",
    "        self.chrom = chrom\n",
    "        \n",
    "    def offset(self, offset_val):\n",
    "        if not self.offsetted:\n",
    "            self.start = self.start + int(offset_val) - 24\n",
    "            if self.stop != -1:\n",
    "                self.stop = self.stop + int(offset_val) - 24\n",
    "            else:\n",
    "                self.stop = self.start + 1\n",
    "            self.offsetted = True\n",
    "        else:\n",
    "            print(\"Already offsetted\")\n",
    "            \n",
    "    def rsid_query(self):\n",
    "        if self.offsetted:\n",
    "            query_str = \"{}:{}-{}\".format(self.chrom, self.start, self.stop)\n",
    "            #bcfstr = 'bcftools query -f' + '\\'chr%CHROM %ID %POS %REF>%ALT\\\\n\\'' + ' -r ' + query_str + ' ' + ref_vcf\n",
    "            #resultquery = subprocess.check_output(bcfstr,shell=True)\n",
    "            proc = subprocess.Popen([\"bcftools\", \"query\", \"-f\", r\"%CHROM %ID %POS %REF>%ALT\\n\", \"-r\", query_str, ref_vcf], stdout=subprocess.PIPE, stderr=subprocess.STDOUT)\n",
    "            return proc.communicate()[0][:-1].split('\\n')\n",
    "        else:\n",
    "            print(\"Mutation not yet offsetted. Please offset before querying.\")\n",
    "            return None\n",
    "\n",
    "    \n",
    "    def __str__(self):\n",
    "        return \"Start: {}, Stop: {}, Change: {}, Mutation type: {}\".format(self.start, self.stop, self.change, self.mutation_type)"
   ]
  },
  {
   "cell_type": "code",
   "execution_count": 35,
   "metadata": {},
   "outputs": [],
   "source": [
    "def get_mutation(mutation_string):\n",
    "    mutation_symbols = ['subst', 'del', 'ins', 'dup', 'inv', 'delins']\n",
    "    for mutation in mutation_symbols:\n",
    "        if mutation in mutation_string:\n",
    "            info = mutation_string.split(mutation)\n",
    "            if len(info[0].split(\"_\")) == 2:\n",
    "                start, stop = info[0].split(\"_\")\n",
    "            else:\n",
    "                start = info[0]\n",
    "                stop = -1\n",
    "                \n",
    "            if mutation == \"del\":\n",
    "                info[1] = common_seq[152:159]\n",
    "            return Mutation(start=start, stop=stop, change=info[1], mutation_type=mutation, chrom=info_tile.to_dict()['chrom'])\n",
    "            \n",
    "    else: # it would be a substitution (SNP)\n",
    "        # substitutions always follow the format #W>W. Break up into number then SNP content\n",
    "        if len(mutation_string) == 4:\n",
    "            num, mutation = mutation_string[0], mutation_string[1:]\n",
    "        else:\n",
    "            num, mutation = mutation_string[0:2], mutation_string[2:]\n",
    "\n",
    "        return Mutation(start=num, change=mutation, mutation_type=\"subst\", chrom=info_tile.to_dict()['chrom']) "
   ]
  },
  {
   "cell_type": "code",
   "execution_count": 36,
   "metadata": {},
   "outputs": [
    {
     "ename": "ValueError",
     "evalue": "invalid literal for int() with base 10: 'AT'",
     "output_type": "error",
     "traceback": [
      "\u001b[0;31m---------------------------------------------------------------------------\u001b[0m",
      "\u001b[0;31mValueError\u001b[0m                                Traceback (most recent call last)",
      "\u001b[0;32m<ipython-input-36-52a452b0a7ee>\u001b[0m in \u001b[0;36m<module>\u001b[0;34m()\u001b[0m\n\u001b[1;32m      2\u001b[0m \u001b[0mchange\u001b[0m \u001b[0;34m=\u001b[0m \u001b[0mchange\u001b[0m\u001b[0;34m.\u001b[0m\u001b[0mreplace\u001b[0m\u001b[0;34m(\u001b[0m\u001b[0;34m\"]\"\u001b[0m\u001b[0;34m,\u001b[0m \u001b[0;34m\"\"\u001b[0m\u001b[0;34m)\u001b[0m\u001b[0;34m\u001b[0m\u001b[0m\n\u001b[1;32m      3\u001b[0m \u001b[0mchange\u001b[0m \u001b[0;34m=\u001b[0m \u001b[0mchange\u001b[0m\u001b[0;34m.\u001b[0m\u001b[0msplit\u001b[0m\u001b[0;34m(\u001b[0m\u001b[0;34m\";\"\u001b[0m\u001b[0;34m)\u001b[0m\u001b[0;34m\u001b[0m\u001b[0m\n\u001b[0;32m----> 4\u001b[0;31m \u001b[0mmutations\u001b[0m \u001b[0;34m=\u001b[0m \u001b[0mmap\u001b[0m\u001b[0;34m(\u001b[0m\u001b[0mget_mutation\u001b[0m\u001b[0;34m,\u001b[0m \u001b[0mchange\u001b[0m\u001b[0;34m)\u001b[0m\u001b[0;34m\u001b[0m\u001b[0m\n\u001b[0m",
      "\u001b[0;32m<ipython-input-35-474ff72d970b>\u001b[0m in \u001b[0;36mget_mutation\u001b[0;34m(mutation_string)\u001b[0m\n\u001b[1;32m     21\u001b[0m             \u001b[0mnum\u001b[0m\u001b[0;34m,\u001b[0m \u001b[0mmutation\u001b[0m \u001b[0;34m=\u001b[0m \u001b[0mmutation_string\u001b[0m\u001b[0;34m[\u001b[0m\u001b[0;36m0\u001b[0m\u001b[0;34m:\u001b[0m\u001b[0;36m2\u001b[0m\u001b[0;34m]\u001b[0m\u001b[0;34m,\u001b[0m \u001b[0mmutation_string\u001b[0m\u001b[0;34m[\u001b[0m\u001b[0;36m2\u001b[0m\u001b[0;34m:\u001b[0m\u001b[0;34m]\u001b[0m\u001b[0;34m\u001b[0m\u001b[0m\n\u001b[1;32m     22\u001b[0m \u001b[0;34m\u001b[0m\u001b[0m\n\u001b[0;32m---> 23\u001b[0;31m         \u001b[0;32mreturn\u001b[0m \u001b[0mMutation\u001b[0m\u001b[0;34m(\u001b[0m\u001b[0mstart\u001b[0m\u001b[0;34m=\u001b[0m\u001b[0mnum\u001b[0m\u001b[0;34m,\u001b[0m \u001b[0mchange\u001b[0m\u001b[0;34m=\u001b[0m\u001b[0mmutation\u001b[0m\u001b[0;34m,\u001b[0m \u001b[0mmutation_type\u001b[0m\u001b[0;34m=\u001b[0m\u001b[0;34m\"subst\"\u001b[0m\u001b[0;34m,\u001b[0m \u001b[0mchrom\u001b[0m\u001b[0;34m=\u001b[0m\u001b[0minfo_tile\u001b[0m\u001b[0;34m.\u001b[0m\u001b[0mto_dict\u001b[0m\u001b[0;34m(\u001b[0m\u001b[0;34m)\u001b[0m\u001b[0;34m[\u001b[0m\u001b[0;34m'chrom'\u001b[0m\u001b[0;34m]\u001b[0m\u001b[0;34m)\u001b[0m\u001b[0;34m\u001b[0m\u001b[0m\n\u001b[0m",
      "\u001b[0;32m<ipython-input-34-fc4b82844aac>\u001b[0m in \u001b[0;36m__init__\u001b[0;34m(self, start, change, mutation_type, chrom, stop, pre_offsetted)\u001b[0m\n\u001b[1;32m      2\u001b[0m \u001b[0;32mclass\u001b[0m \u001b[0mMutation\u001b[0m\u001b[0;34m:\u001b[0m\u001b[0;34m\u001b[0m\u001b[0m\n\u001b[1;32m      3\u001b[0m     \u001b[0;32mdef\u001b[0m \u001b[0m__init__\u001b[0m\u001b[0;34m(\u001b[0m\u001b[0mself\u001b[0m\u001b[0;34m,\u001b[0m \u001b[0mstart\u001b[0m\u001b[0;34m,\u001b[0m\u001b[0mchange\u001b[0m\u001b[0;34m,\u001b[0m \u001b[0mmutation_type\u001b[0m\u001b[0;34m,\u001b[0m \u001b[0mchrom\u001b[0m\u001b[0;34m,\u001b[0m \u001b[0mstop\u001b[0m\u001b[0;34m=\u001b[0m\u001b[0;34m-\u001b[0m\u001b[0;36m1\u001b[0m\u001b[0;34m,\u001b[0m \u001b[0mpre_offsetted\u001b[0m\u001b[0;34m=\u001b[0m\u001b[0mFalse\u001b[0m\u001b[0;34m)\u001b[0m\u001b[0;34m:\u001b[0m\u001b[0;34m\u001b[0m\u001b[0m\n\u001b[0;32m----> 4\u001b[0;31m         \u001b[0mself\u001b[0m\u001b[0;34m.\u001b[0m\u001b[0mstart\u001b[0m \u001b[0;34m=\u001b[0m \u001b[0mint\u001b[0m\u001b[0;34m(\u001b[0m\u001b[0mstart\u001b[0m\u001b[0;34m)\u001b[0m\u001b[0;34m\u001b[0m\u001b[0m\n\u001b[0m\u001b[1;32m      5\u001b[0m         \u001b[0mself\u001b[0m\u001b[0;34m.\u001b[0m\u001b[0mstop\u001b[0m \u001b[0;34m=\u001b[0m \u001b[0mint\u001b[0m\u001b[0;34m(\u001b[0m\u001b[0mstop\u001b[0m\u001b[0;34m)\u001b[0m\u001b[0;34m\u001b[0m\u001b[0m\n\u001b[1;32m      6\u001b[0m         \u001b[0mself\u001b[0m\u001b[0;34m.\u001b[0m\u001b[0mchange\u001b[0m \u001b[0;34m=\u001b[0m \u001b[0mchange\u001b[0m\u001b[0;34m\u001b[0m\u001b[0m\n",
      "\u001b[0;31mValueError\u001b[0m: invalid literal for int() with base 10: 'AT'"
     ]
    }
   ],
   "source": [
    "change = change.replace(\"[\", \"\")\n",
    "change = change.replace(\"]\", \"\")\n",
    "change = change.split(\";\")\n",
    "mutations = map(get_mutation, change)"
   ]
  },
  {
   "cell_type": "code",
   "execution_count": null,
   "metadata": {
    "scrolled": true
   },
   "outputs": [],
   "source": [
    "map(lambda x: x.offset(info_tile.to_dict()['position_start']), mutations)"
   ]
  },
  {
   "cell_type": "code",
   "execution_count": null,
   "metadata": {},
   "outputs": [],
   "source": [
    "rsid_queries = map(lambda x: x.rsid_query(), mutations)"
   ]
  },
  {
   "cell_type": "code",
   "execution_count": null,
   "metadata": {
    "collapsed": true
   },
   "outputs": [],
   "source": [
    "rsid_queries = list(filter(lambda x: x != \"\", rsid_queries))"
   ]
  },
  {
   "cell_type": "code",
   "execution_count": null,
   "metadata": {
    "collapsed": true
   },
   "outputs": [],
   "source": [
    "mutations_str = map(str, mutations)"
   ]
  },
  {
   "cell_type": "code",
   "execution_count": null,
   "metadata": {},
   "outputs": [],
   "source": [
    "zip(mutations_str, rsid_queries)"
   ]
  },
  {
   "cell_type": "code",
   "execution_count": null,
   "metadata": {
    "scrolled": true
   },
   "outputs": [],
   "source": [
    "print(\"List of mutations:\\n{}\".format(\"\\n\".join(mutations_str)))"
   ]
  }
 ],
 "metadata": {
  "kernelspec": {
   "display_name": "Python 2",
   "language": "python",
   "name": "python2"
  },
  "language_info": {
   "codemirror_mode": {
    "name": "ipython",
    "version": 2
   },
   "file_extension": ".py",
   "mimetype": "text/x-python",
   "name": "python",
   "nbconvert_exporter": "python",
   "pygments_lexer": "ipython2",
   "version": "2.7.12"
  }
 },
 "nbformat": 4,
 "nbformat_minor": 2
}
