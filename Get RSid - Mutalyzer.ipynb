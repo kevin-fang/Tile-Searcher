{
 "cells": [
  {
   "cell_type": "code",
   "execution_count": 1,
   "metadata": {
    "collapsed": true
   },
   "outputs": [],
   "source": [
    "tile_idx = 12099719\n",
    "varval = 1"
   ]
  },
  {
   "cell_type": "code",
   "execution_count": 2,
   "metadata": {
    "collapsed": true
   },
   "outputs": [],
   "source": [
    "import application, getTileVariants\n",
    "import subprocess"
   ]
  },
  {
   "cell_type": "code",
   "execution_count": 3,
   "metadata": {
    "collapsed": true
   },
   "outputs": [],
   "source": [
    "tile = application.Tile(tile_idx)"
   ]
  },
  {
   "cell_type": "code",
   "execution_count": 4,
   "metadata": {},
   "outputs": [
    {
     "name": "stdout",
     "output_type": "stream",
     "text": [
      "Tile 12099719 information:\n",
      "hg19:chr9:01c4\t91424\t96791024\t15\t16\n",
      "Path: 01c4\n",
      "Step: 0369\n",
      "Phase: 0x1\n",
      "\n",
      "0368\t 136139786\n",
      "0369\t 136140011\n",
      "\n",
      "01c4.00.0369.000+1,60fe6d1a287c91939b151001adfdeada      ttcactgttcggggccactagcaacaaagcttctgtaaacactcatgtgcaggtatttgt\n",
      "01c4.00.0369.001+1,7214c84c18b994abdd0dbf6a176a7407      ttcactgttcggggccactagcaacaaagcttctgtaaacactcatgtgcaggtatttgt\n",
      "01c4.00.0369.002+1,34c37138df011524d54aec04d3f2d723      ttcactgttcggggccactagcaacaaagcttctgtaaacactcatgtgcaggtatttgt\n",
      "01c4.00.0369.003+1,bc42c6d168b007e5278f4308fd4db955      ttcactgttcggggccactagcaacaaagcttctgtaaacactcatgtgcaggtatttgt\n",
      "01c4.00.0369.004+1,dbac4cca74cdfeecc02209020cf2529b      ttcactgttcggggccactagcaacaaagcttctgtaaacactcatgtgcaggtatttgt\n",
      "01c4.00.0369.005+2,10bbbac9978c3fa024c501b33bd66c1e      ttcactgttcggggccactagcaacaaagcttctgtaaacactcatgtgcaggtatttgt\n",
      "                                                         ************************************************************\n",
      "\n",
      "\n",
      "01c4.00.0369.000+1,60fe6d1a287c91939b151001adfdeada      ggacctgtgttttcatttcccttgagtaaataccaaggaatggaaaagatgggtcatatg\n",
      "01c4.00.0369.001+1,7214c84c18b994abdd0dbf6a176a7407      ggacctgtgttttcatttcccttgagtaaataccaaggaatggaaaagatgggtcatatg\n",
      "01c4.00.0369.002+1,34c37138df011524d54aec04d3f2d723      ggacctgtgttttcatttcccttgagtaaataccaaggaatggaaaagatgggtcatatg\n",
      "01c4.00.0369.003+1,bc42c6d168b007e5278f4308fd4db955      ggacctgtgtcttcatttcccttgagtaaataccaaggaatggaaaagatgggtcatatg\n",
      "01c4.00.0369.004+1,dbac4cca74cdfeecc02209020cf2529b      ggacctgtgtcttcatttcccttgagtaaataccaaggaatggaaaagatgggtcatatg\n",
      "01c4.00.0369.005+2,10bbbac9978c3fa024c501b33bd66c1e      ggacctgtgttttcatttcccttgagtaaataccaaggaatggaaaagatgggtcatatg\n",
      "                                                         ********** *************************************************\n",
      "\n",
      "\n",
      "01c4.00.0369.000+1,60fe6d1a287c91939b151001adfdeada      gtaagtgtatgtttaactttgtaagaaactgccaaactgtgttccaaagtggtgactgaa\n",
      "01c4.00.0369.001+1,7214c84c18b994abdd0dbf6a176a7407      gtaagtgtatgtttaactttgtaagaa--------actgtgttccaaagtggtgactgaa\n",
      "01c4.00.0369.002+1,34c37138df011524d54aec04d3f2d723      gtaagtgtatgtttaactttgtaagaaactgccaaactgtgttccaaagtggtgactgaa\n",
      "01c4.00.0369.003+1,bc42c6d168b007e5278f4308fd4db955      gtaagtgtatgtttaactttgtaagaaactgccaaactgtgttccaaagtggtgactgaa\n",
      "01c4.00.0369.004+1,dbac4cca74cdfeecc02209020cf2529b      gtaagtgtatgtttaactttgtaagaa--------actgtgttccaaagtggtgactgaa\n",
      "01c4.00.0369.005+2,10bbbac9978c3fa024c501b33bd66c1e      gtaagtgtatgtttaactttgtaagaa--------actgtgttccaaagtggtgactgaa\n",
      "                                                         ***************************        *************************\n",
      "\n",
      "\n",
      "01c4.00.0369.000+1,60fe6d1a287c91939b151001adfdeada      ttttccattcccgccaggaatgtacgagaaccacagtccttgccaacacttgatggtcac\n",
      "01c4.00.0369.001+1,7214c84c18b994abdd0dbf6a176a7407      ttttccattcccgccaggaatgtacgagaaccacagtccttgccaacacttgatggtcac\n",
      "01c4.00.0369.002+1,34c37138df011524d54aec04d3f2d723      ttttccattcccaccaggaatgtacgagaaccacagtccttgccaacacttgatggtcac\n",
      "01c4.00.0369.003+1,bc42c6d168b007e5278f4308fd4db955      ttttccattcccgccaggaatgtacgagaaccacagtccttgccaacacttgatggtcac\n",
      "01c4.00.0369.004+1,dbac4cca74cdfeecc02209020cf2529b      ttttccattcccgccaggaatgtacgagaaccacagtccttgccaacacttgatggtcac\n",
      "01c4.00.0369.005+2,10bbbac9978c3fa024c501b33bd66c1e      ttttccattcccgccaggaatgtacgagaaccacagtccttgccaacacttgatggtcac\n",
      "                                                         ************ ***********************************************\n",
      "\n",
      "\n",
      "01c4.00.0369.000+1,60fe6d1a287c91939b151001adfdeada      tcttttatc---------------------------------------------------\n",
      "01c4.00.0369.001+1,7214c84c18b994abdd0dbf6a176a7407      tcttttatc---------------------------------------------------\n",
      "01c4.00.0369.002+1,34c37138df011524d54aec04d3f2d723      tcttttatc---------------------------------------------------\n",
      "01c4.00.0369.003+1,bc42c6d168b007e5278f4308fd4db955      tcttttatc---------------------------------------------------\n",
      "01c4.00.0369.004+1,dbac4cca74cdfeecc02209020cf2529b      tcttttatc---------------------------------------------------\n",
      "01c4.00.0369.005+2,10bbbac9978c3fa024c501b33bd66c1e      tctttttatcctttagccatgctagtggatgaggagtggtatctaagtgtgtccaatgac\n",
      "                                                         ******                                                      \n",
      "\n",
      "\n",
      "01c4.00.0369.000+1,60fe6d1a287c91939b151001adfdeada      ------------------------------------------------------------\n",
      "01c4.00.0369.001+1,7214c84c18b994abdd0dbf6a176a7407      ------------------------------------------------------------\n",
      "01c4.00.0369.002+1,34c37138df011524d54aec04d3f2d723      ------------------------------------------------------------\n",
      "01c4.00.0369.003+1,bc42c6d168b007e5278f4308fd4db955      ------------------------------------------------------------\n",
      "01c4.00.0369.004+1,dbac4cca74cdfeecc02209020cf2529b      ------------------------------------------------------------\n",
      "01c4.00.0369.005+2,10bbbac9978c3fa024c501b33bd66c1e      taaggaggtaaatcatcttttcatgtatttattggccatttgcttgcttcttatgaagcc\n",
      "                                                                                                                     \n",
      "\n",
      "\n",
      "01c4.00.0369.000+1,60fe6d1a287c91939b151001adfdeada      ------------------------------------------------------------\n",
      "01c4.00.0369.001+1,7214c84c18b994abdd0dbf6a176a7407      ------------------------------------------------------------\n",
      "01c4.00.0369.002+1,34c37138df011524d54aec04d3f2d723      ------------------------------------------------------------\n",
      "01c4.00.0369.003+1,bc42c6d168b007e5278f4308fd4db955      ------------------------------------------------------------\n",
      "01c4.00.0369.004+1,dbac4cca74cdfeecc02209020cf2529b      ------------------------------------------------------------\n",
      "01c4.00.0369.005+2,10bbbac9978c3fa024c501b33bd66c1e      tgtccagatctttagctcattttattatttatttatttatttatttacttatatatattt\n",
      "                                                                                                                     \n",
      "\n",
      "\n",
      "01c4.00.0369.000+1,60fe6d1a287c91939b151001adfdeada      ------------------------------------------------------------\n",
      "01c4.00.0369.001+1,7214c84c18b994abdd0dbf6a176a7407      ------------------------------------------------------------\n",
      "01c4.00.0369.002+1,34c37138df011524d54aec04d3f2d723      ------------------------------------------------------------\n",
      "01c4.00.0369.003+1,bc42c6d168b007e5278f4308fd4db955      ------------------------------------------------------------\n",
      "01c4.00.0369.004+1,dbac4cca74cdfeecc02209020cf2529b      ------------------------------------------------------------\n",
      "01c4.00.0369.005+2,10bbbac9978c3fa024c501b33bd66c1e      ttggggggcacagtcccactccagttgcccaggctggagtgtggtggcatgatcatggct\n",
      "                                                                                                                     \n",
      "\n",
      "\n",
      "01c4.00.0369.000+1,60fe6d1a287c91939b151001adfdeada      ------------------------------------------------------------\n",
      "01c4.00.0369.001+1,7214c84c18b994abdd0dbf6a176a7407      ------------------------------------------------------------\n",
      "01c4.00.0369.002+1,34c37138df011524d54aec04d3f2d723      ------------------------------------------------------------\n",
      "01c4.00.0369.003+1,bc42c6d168b007e5278f4308fd4db955      ------------------------------------------------------------\n",
      "01c4.00.0369.004+1,dbac4cca74cdfeecc02209020cf2529b      ------------------------------------------------------------\n",
      "01c4.00.0369.005+2,10bbbac9978c3fa024c501b33bd66c1e      cactacagcctcgacttcctgggctcaggtgatcctcccacctcagccttttgagtagct\n",
      "                                                                                                                     \n",
      "\n",
      "\n",
      "01c4.00.0369.000+1,60fe6d1a287c91939b151001adfdeada      ------------------------------------------------------------\n",
      "01c4.00.0369.001+1,7214c84c18b994abdd0dbf6a176a7407      ------------------------------------------------------------\n",
      "01c4.00.0369.002+1,34c37138df011524d54aec04d3f2d723      ------------------------------------------------------------\n",
      "01c4.00.0369.003+1,bc42c6d168b007e5278f4308fd4db955      ------------------------------------------------------------\n",
      "01c4.00.0369.004+1,dbac4cca74cdfeecc02209020cf2529b      ------------------------------------------------------------\n",
      "01c4.00.0369.005+2,10bbbac9978c3fa024c501b33bd66c1e      gagactataggcatgcaccacatctagctgattttttgtggttttggtagagatggggtt\n",
      "                                                                                                                     \n",
      "\n",
      "\n",
      "01c4.00.0369.000+1,60fe6d1a287c91939b151001adfdeada      ------------------------------------------------------------\n",
      "01c4.00.0369.001+1,7214c84c18b994abdd0dbf6a176a7407      ------------------------------------------------------------\n",
      "01c4.00.0369.002+1,34c37138df011524d54aec04d3f2d723      ------------------------------------------------------------\n",
      "01c4.00.0369.003+1,bc42c6d168b007e5278f4308fd4db955      ------------------------------------------------------------\n",
      "01c4.00.0369.004+1,dbac4cca74cdfeecc02209020cf2529b      ------------------------------------------------------------\n",
      "01c4.00.0369.005+2,10bbbac9978c3fa024c501b33bd66c1e      tcaccatgttgcccaggctggtcttgaactcctgggcttaagcaatccacctgcctcagc\n",
      "                                                                                                                     \n",
      "\n",
      "\n",
      "01c4.00.0369.000+1,60fe6d1a287c91939b151001adfdeada      ------------------------------------------------------------\n",
      "01c4.00.0369.001+1,7214c84c18b994abdd0dbf6a176a7407      ------------------------------------------------------------\n",
      "01c4.00.0369.002+1,34c37138df011524d54aec04d3f2d723      ------------------------------------------------------------\n",
      "01c4.00.0369.003+1,bc42c6d168b007e5278f4308fd4db955      ------------------------------------------------------------\n",
      "01c4.00.0369.004+1,dbac4cca74cdfeecc02209020cf2529b      ------------------------------------------------------------\n",
      "01c4.00.0369.005+2,10bbbac9978c3fa024c501b33bd66c1e      ctcccaatgtgctgggattacaggcataagccacctcacctggccctctatttttatttt\n",
      "                                                                                                                     \n",
      "\n",
      "\n",
      "01c4.00.0369.000+1,60fe6d1a287c91939b151001adfdeada      ------------------------------------------------------------\n",
      "01c4.00.0369.001+1,7214c84c18b994abdd0dbf6a176a7407      ------------------------------------------------------------\n",
      "01c4.00.0369.002+1,34c37138df011524d54aec04d3f2d723      ------------------------------------------------------------\n",
      "01c4.00.0369.003+1,bc42c6d168b007e5278f4308fd4db955      ------------------------------------------------------------\n",
      "01c4.00.0369.004+1,dbac4cca74cdfeecc02209020cf2529b      ------------------------------------------------------------\n",
      "01c4.00.0369.005+2,10bbbac9978c3fa024c501b33bd66c1e      ttttagacaggatcttactctgtcacccaggctggagtgcagtggcacgatcacagctcg\n",
      "                                                                                                                     \n",
      "\n",
      "\n",
      "01c4.00.0369.000+1,60fe6d1a287c91939b151001adfdeada      ------------------------------------------------------------\n",
      "01c4.00.0369.001+1,7214c84c18b994abdd0dbf6a176a7407      ------------------------------------------------------------\n",
      "01c4.00.0369.002+1,34c37138df011524d54aec04d3f2d723      ------------------------------------------------------------\n",
      "01c4.00.0369.003+1,bc42c6d168b007e5278f4308fd4db955      ------------------------------------------------------------\n",
      "01c4.00.0369.004+1,dbac4cca74cdfeecc02209020cf2529b      ------------------------------------------------------------\n",
      "01c4.00.0369.005+2,10bbbac9978c3fa024c501b33bd66c1e      ctgcaacctcgaactcctgagcttaagtgatctttccccctcagcctcctgattaggtgg\n",
      "                                                                                                                     \n",
      "\n",
      "\n",
      "01c4.00.0369.000+1,60fe6d1a287c91939b151001adfdeada      --------------------------------------------------------\n",
      "01c4.00.0369.001+1,7214c84c18b994abdd0dbf6a176a7407      --------------------------------------------------------\n",
      "01c4.00.0369.002+1,34c37138df011524d54aec04d3f2d723      --------------------------------------------------------\n",
      "01c4.00.0369.003+1,bc42c6d168b007e5278f4308fd4db955      --------------------------------------------------------\n",
      "01c4.00.0369.004+1,dbac4cca74cdfeecc02209020cf2529b      --------------------------------------------------------\n",
      "01c4.00.0369.005+2,10bbbac9978c3fa024c501b33bd66c1e      gactacagacatgcaccaacatgcccggctaattattctactttttgtagacactg\n",
      "                                                                                                                 \n",
      "\n",
      "\n",
      "Variant diffs:\n",
      "\n",
      "Position on chromosome: 71, index of diff: 136139833\n",
      "\n",
      "Position range on chromosome: 148-155, index range: 136139910-136139917\n",
      "\n",
      "Position on chromosome: 193, index of diff: 136139955\n",
      "\n",
      "Position range on chromosome: 247-896, index range: 136140009-136140658\n",
      "\n",
      "Finished search for tile 12099719\n",
      "\n"
     ]
    }
   ],
   "source": [
    "info = getTileVariants.tile_iteration(tile)#, out=\"suppress\")"
   ]
  },
  {
   "cell_type": "code",
   "execution_count": 5,
   "metadata": {},
   "outputs": [
    {
     "data": {
      "text/plain": [
       "{'chrom': '9',\n",
       " 'path': '01c4',\n",
       " 'position_end': '136140011',\n",
       " 'position_start': '136139786',\n",
       " 'step': '0369'}"
      ]
     },
     "execution_count": 5,
     "metadata": {},
     "output_type": "execute_result"
    }
   ],
   "source": [
    "info.to_dict()"
   ]
  },
  {
   "cell_type": "code",
   "execution_count": 6,
   "metadata": {
    "collapsed": true
   },
   "outputs": [],
   "source": [
    "tile_variant = info.variants.split('\\n')[varval]\n",
    "common_variant = info.variants.split('\\n')[0]"
   ]
  },
  {
   "cell_type": "code",
   "execution_count": 7,
   "metadata": {},
   "outputs": [
    {
     "name": "stdout",
     "output_type": "stream",
     "text": [
      "01c4.00.0369.001+1,7214c84c18b994abdd0dbf6a176a7407,ttcactgttcggggccactagcaacaaagcttctgtaaacactcatgtgcaggtatttgtggacctgtgttttcatttcccttgagtaaataccaaggaatggaaaagatgggtcatatggtaagtgtatgtttaactttgtaagaaactgtgttccaaagtggtgactgaattttccattcccgccaggaatgtacgagaaccacagtccttgccaacacttgatggtcactcttttatc\n",
      "01c4.00.0369.000+1,60fe6d1a287c91939b151001adfdeada,ttcactgttcggggccactagcaacaaagcttctgtaaacactcatgtgcaggtatttgtggacctgtgttttcatttcccttgagtaaataccaaggaatggaaaagatgggtcatatggtaagtgtatgtttaactttgtaagaaactgccaaactgtgttccaaagtggtgactgaattttccattcccgccaggaatgtacgagaaccacagtccttgccaacacttgatggtcactcttttatc\n"
     ]
    }
   ],
   "source": [
    "print(tile_variant)\n",
    "print(common_variant)"
   ]
  },
  {
   "cell_type": "code",
   "execution_count": 8,
   "metadata": {
    "collapsed": true
   },
   "outputs": [],
   "source": [
    "from extractor import describe_dna"
   ]
  },
  {
   "cell_type": "code",
   "execution_count": 10,
   "metadata": {},
   "outputs": [],
   "source": [
    "tile_seq = tile_variant.split(',')[2]\n",
    "common_seq = common_variant.split(',')[2]"
   ]
  },
  {
   "cell_type": "code",
   "execution_count": 11,
   "metadata": {},
   "outputs": [
    {
     "name": "stdout",
     "output_type": "stream",
     "text": [
      "151_152insccaaactg\n"
     ]
    }
   ],
   "source": [
    "print(describe_dna(tile_seq, common_seq))"
   ]
  },
  {
   "cell_type": "code",
   "execution_count": 13,
   "metadata": {},
   "outputs": [],
   "source": [
    "allele = describe_dna(tile_seq, common_seq)"
   ]
  },
  {
   "cell_type": "code",
   "execution_count": 14,
   "metadata": {},
   "outputs": [
    {
     "name": "stdout",
     "output_type": "stream",
     "text": [
      "Help on Allele in module extractor.variant object:\n",
      "\n",
      "class Allele(HGVSList)\n",
      " |  Method resolution order:\n",
      " |      Allele\n",
      " |      HGVSList\n",
      " |      __builtin__.object\n",
      " |  \n",
      " |  Methods inherited from HGVSList:\n",
      " |  \n",
      " |  __bool__(self)\n",
      " |  \n",
      " |  __getitem__(self, index)\n",
      " |  \n",
      " |  __init__(self, items=[])\n",
      " |  \n",
      " |  __nonzero__(self)\n",
      " |  \n",
      " |  __str__ lambda self\n",
      " |  \n",
      " |  __unicode__ = __str__(self)\n",
      " |  \n",
      " |  append(self, item)\n",
      " |  \n",
      " |  weight(self)\n",
      " |  \n",
      " |  ----------------------------------------------------------------------\n",
      " |  Data descriptors inherited from HGVSList:\n",
      " |  \n",
      " |  __dict__\n",
      " |      dictionary for instance variables (if defined)\n",
      " |  \n",
      " |  __weakref__\n",
      " |      list of weak references to the object (if defined)\n",
      "\n"
     ]
    }
   ],
   "source": [
    "help(allele)"
   ]
  },
  {
   "cell_type": "code",
   "execution_count": 25,
   "metadata": {},
   "outputs": [],
   "source": [
    "change = str(allele)\n",
    "change2 = \"[5_6insTT;17del;26A>C;35dup]\"\n",
    "# another possibility is [5_6insTT;17del;26A>C;35dup]"
   ]
  },
  {
   "cell_type": "code",
   "execution_count": 26,
   "metadata": {},
   "outputs": [
    {
     "name": "stdout",
     "output_type": "stream",
     "text": [
      "('151_152insccaaactg', '[5_6insTT;17del;26A>C;35dup]')\n"
     ]
    }
   ],
   "source": [
    "print(change, change2)"
   ]
  },
  {
   "cell_type": "code",
   "execution_count": 43,
   "metadata": {},
   "outputs": [],
   "source": [
    "change2_lst = change2[1:-1].split(';')"
   ]
  },
  {
   "cell_type": "code",
   "execution_count": 57,
   "metadata": {},
   "outputs": [],
   "source": [
    "first = \"TTGATGATCAGTGATACAGGTAGTTAGACAA\"\n",
    "second = \"ATGATTTGATCAGATACATGTGATACCGGTAGTTAGGACAA\"\n",
    "info = map(str, describe_dna(first, second))"
   ]
  },
  {
   "cell_type": "code",
   "execution_count": 58,
   "metadata": {
    "scrolled": true
   },
   "outputs": [
    {
     "data": {
      "text/plain": [
       "['1T>A', '5_6insTT', '11_12insATACATG', '18A>C', '27dup']"
      ]
     },
     "execution_count": 58,
     "metadata": {},
     "output_type": "execute_result"
    }
   ],
   "source": [
    "info"
   ]
  },
  {
   "cell_type": "code",
   "execution_count": 67,
   "metadata": {
    "collapsed": true
   },
   "outputs": [],
   "source": [
    "def get_mutation_type(mutation_string):\n",
    "    mutation_symbols = ['subst', 'del', 'ins', 'dup', 'inv', 'delins']\n",
    "    for mutation in mutation_symbols:\n",
    "        if mutation in mutation_string:\n",
    "            info = mutation_string.split(mutation)\n",
    "            return info, mutation\n",
    "    else: # it would be a substitution (SNP)\n",
    "        # substitutions always follow the format #W>W. Break up into number then SNP content\n",
    "        if len(mutation_string) == 4:\n",
    "            num, mutation = mutation_string[0], mutation_string[1:]\n",
    "        else:\n",
    "            num, mutation = mutation_string[0:1], mutation_string[2:]\n",
    "        return [num, mutation], \"subst\""
   ]
  },
  {
   "cell_type": "code",
   "execution_count": 71,
   "metadata": {},
   "outputs": [
    {
     "data": {
      "text/plain": [
       "(['151_152', 'ccaaactg'], 'ins')"
      ]
     },
     "execution_count": 71,
     "metadata": {},
     "output_type": "execute_result"
    }
   ],
   "source": [
    "get_mutation_type(change)"
   ]
  },
  {
   "cell_type": "code",
   "execution_count": 70,
   "metadata": {},
   "outputs": [
    {
     "data": {
      "text/plain": [
       "'G'"
      ]
     },
     "execution_count": 70,
     "metadata": {},
     "output_type": "execute_result"
    }
   ],
   "source": []
  },
  {
   "cell_type": "code",
   "execution_count": null,
   "metadata": {
    "collapsed": true
   },
   "outputs": [],
   "source": []
  }
 ],
 "metadata": {
  "kernelspec": {
   "display_name": "Python 2",
   "language": "python",
   "name": "python2"
  },
  "language_info": {
   "codemirror_mode": {
    "name": "ipython",
    "version": 2
   },
   "file_extension": ".py",
   "mimetype": "text/x-python",
   "name": "python",
   "nbconvert_exporter": "python",
   "pygments_lexer": "ipython2",
   "version": "2.7.12"
  }
 },
 "nbformat": 4,
 "nbformat_minor": 2
}
