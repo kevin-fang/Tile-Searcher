{
 "cells": [
  {
   "cell_type": "code",
   "execution_count": 60,
   "metadata": {},
   "outputs": [],
   "source": [
    "from Bio import Align\n",
    "aligner = Align.PairwiseAligner()\n",
    "aligner.mode = \"global\""
   ]
  },
  {
   "cell_type": "code",
   "execution_count": 3,
   "metadata": {
    "collapsed": true
   },
   "outputs": [],
   "source": [
    "genes = ['0001.00.2654.000+1,11c05127e69ad6815ad56f8715964973,ccctccaggccacgccatggccacagggtgagctgccaccttcatggagaaatggtctctgtgtccatccacttcctcggtctctggtgactcaggacattgcctaagtgtaggcttctgtcccatcaccaaaagtcatgcaggagcagaatgcaggggatgcccaggatctccagtgattctgccctgtggacatcttctgggagcacgtgcttggctgggacagttgactgcagagacacagaggaa', '0001.00.2654.001+1,6324e2c3384ca9811f1184c9e3615c78,ccctccaggccacgccatggccacagggcgagctgccaccttcatggagaaatggtctctgtgtccatccacttcctcggtctctggtgactcaggacattgcctaagtgtaggcttctgtcccatcaccaaaagtcatgcaggagcagaatgcaggggatgcccaggatctccagtgattctgccctgtggacatcttctgggagcacgtgcttggctgggacagttgactgcagagacacagaggaa', '0001.00.2654.002+1,65945bcd856b06cb0c87ccf4de41fb5d,ccctccaggccacgccatggccacagggcgagctgccaccttcatggagaaatggtctctgtgtccatccacttcctcggtctctggtgactcaggacattgcctaagtgtaggcttctgtcccatcaccaaaagtcatgcaggagcagaatgcaggggatgcccaggatctccagtgattctgccctgtggacatcttctgggagcacgtgcttggctggaacagttgactgcagagacacagaggaa', '0001.00.2654.003+1,8c5f7a9e4f9984bac99818cebaf1c608,ccctccaggccacgccatggccacagggtgagctgccaccttcatggagaaatggtctctgtgtccatccacttcctcggtctctggtgactcaggacattgcctaagtgtaggcttctgtcccatcaccaaaagtcatgcaggagcagaatgcaggggatgcccaggatctccagtgattctgccctgtggacatcttctgggagcacgtgcttggctggaacagttgactgcagagacacagaggaa']"
   ]
  },
  {
   "cell_type": "code",
   "execution_count": 4,
   "metadata": {},
   "outputs": [
    {
     "data": {
      "text/plain": [
       "['0001.00.2654.000+1,11c05127e69ad6815ad56f8715964973,ccctccaggccacgccatggccacagggtgagctgccaccttcatggagaaatggtctctgtgtccatccacttcctcggtctctggtgactcaggacattgcctaagtgtaggcttctgtcccatcaccaaaagtcatgcaggagcagaatgcaggggatgcccaggatctccagtgattctgccctgtggacatcttctgggagcacgtgcttggctgggacagttgactgcagagacacagaggaa',\n",
       " '0001.00.2654.001+1,6324e2c3384ca9811f1184c9e3615c78,ccctccaggccacgccatggccacagggcgagctgccaccttcatggagaaatggtctctgtgtccatccacttcctcggtctctggtgactcaggacattgcctaagtgtaggcttctgtcccatcaccaaaagtcatgcaggagcagaatgcaggggatgcccaggatctccagtgattctgccctgtggacatcttctgggagcacgtgcttggctgggacagttgactgcagagacacagaggaa',\n",
       " '0001.00.2654.002+1,65945bcd856b06cb0c87ccf4de41fb5d,ccctccaggccacgccatggccacagggcgagctgccaccttcatggagaaatggtctctgtgtccatccacttcctcggtctctggtgactcaggacattgcctaagtgtaggcttctgtcccatcaccaaaagtcatgcaggagcagaatgcaggggatgcccaggatctccagtgattctgccctgtggacatcttctgggagcacgtgcttggctggaacagttgactgcagagacacagaggaa',\n",
       " '0001.00.2654.003+1,8c5f7a9e4f9984bac99818cebaf1c608,ccctccaggccacgccatggccacagggtgagctgccaccttcatggagaaatggtctctgtgtccatccacttcctcggtctctggtgactcaggacattgcctaagtgtaggcttctgtcccatcaccaaaagtcatgcaggagcagaatgcaggggatgcccaggatctccagtgattctgccctgtggacatcttctgggagcacgtgcttggctggaacagttgactgcagagacacagaggaa']"
      ]
     },
     "execution_count": 4,
     "metadata": {},
     "output_type": "execute_result"
    }
   ],
   "source": [
    "genes"
   ]
  },
  {
   "cell_type": "code",
   "execution_count": 13,
   "metadata": {
    "collapsed": true
   },
   "outputs": [],
   "source": [
    "sequences = [x.split(',')[2] for x in genes]"
   ]
  },
  {
   "cell_type": "code",
   "execution_count": 14,
   "metadata": {
    "collapsed": true
   },
   "outputs": [],
   "source": [
    "ref, other = sequences[0], sequences[1:]"
   ]
  },
  {
   "cell_type": "code",
   "execution_count": 66,
   "metadata": {},
   "outputs": [
    {
     "name": "stdout",
     "output_type": "stream",
     "text": [
      "ccctccaggccacgccatggccacagggc-gagctgccaccttcatggagaaatggtctctgtgtccatccacttcctcggtctctggtgactcaggacattgcctaagtgtaggcttctgtcccatcaccaaaagtcatgcaggagcagaatgcaggggatgcccaggatctccagtgattctgccctgtggacatcttctgggagcacgtgcttggctgggacagttgactgcagagacacagaggaa\n",
      "||||||||||||||||||||||||||||--||||||||||||||||||||||||||||||||||||||||||||||||||||||||||||||||||||||||||||||||||||||||||||||||||||||||||||||||||||||||||||||||||||||||||||||||||||||||||||||||||||||||||||||||||||||||||||||||||||||||||||||||||||||||||||\n",
      "ccctccaggccacgccatggccacaggg-tgagctgccaccttcatggagaaatggtctctgtgtccatccacttcctcggtctctggtgactcaggacattgcctaagtgtaggcttctgtcccatcaccaaaagtcatgcaggagcagaatgcaggggatgcccaggatctccagtgattctgccctgtggacatcttctgggagcacgtgcttggctgggacagttgactgcagagacacagaggaa\n",
      "\n"
     ]
    }
   ],
   "source": [
    "aligner = Align.PairwiseAligner()\n",
    "aligner.mode = \"global\"\n",
    "for sequence in other:\n",
    "    alignments = aligner.align(sequence, ref)\n",
    "    print(alignments[0])\n",
    "    break"
   ]
  },
  {
   "cell_type": "code",
   "execution_count": null,
   "metadata": {
    "collapsed": true
   },
   "outputs": [],
   "source": []
  }
 ],
 "metadata": {
  "kernelspec": {
   "display_name": "Python 2",
   "language": "python",
   "name": "python2"
  },
  "language_info": {
   "codemirror_mode": {
    "name": "ipython",
    "version": 2
   },
   "file_extension": ".py",
   "mimetype": "text/x-python",
   "name": "python",
   "nbconvert_exporter": "python",
   "pygments_lexer": "ipython2",
   "version": "2.7.12"
  }
 },
 "nbformat": 4,
 "nbformat_minor": 2
}
