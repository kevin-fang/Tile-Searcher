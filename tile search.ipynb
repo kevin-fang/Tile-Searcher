{
 "cells": [
  {
   "cell_type": "code",
   "execution_count": 1,
   "metadata": {
    "collapsed": true
   },
   "outputs": [],
   "source": [
    "import application, getTileVariants"
   ]
  },
  {
   "cell_type": "code",
   "execution_count": 90,
   "metadata": {
    "collapsed": true
   },
   "outputs": [],
   "source": [
    "tile = application.Tile(100000)"
   ]
  },
  {
   "cell_type": "code",
   "execution_count": 91,
   "metadata": {
    "scrolled": false
   },
   "outputs": [
    {
     "name": "stdout",
     "output_type": "stream",
     "text": [
      "Tile 100000 information:\n",
      "hg19:chr1:001d\t262688\t6687968\t15\t16\n",
      "Path: 001d\n",
      "Step: 130b\n",
      "Phase: 0x0\n",
      "\n",
      "130a\t 113044277\n",
      "130b\t 113044502\n",
      "\n",
      "001d.00.130b.000+1,a1b6e9164a40841124574fb0909c63d6      tttcagttggctcctga--gtttatgttaatttttaatatggatagctattacccacata\n",
      "001d.00.130b.001+1,d9c4f3e9e53ef5ee95865ced96646399      tttcagttggctcctga--gtttatgttaatttttaatatggatagctattacccacata\n",
      "001d.00.130b.002+1,d980c7dfe24633dea10a1e901b14c9aa      tttcagttggctcctga--gtttatgttaatttttaatatggatagctattacccacata\n",
      "001d.00.130b.003+1,734bd195e14beb3cd9753fb6221864de      tttcagttggctcctga--gtttatgttaatttttaatatggatagctattacccacata\n",
      "001d.00.130b.004+1,a53d9152166bcbb638edf9175d4d5941      tttcagttggctcctga--gtttatgttaatttttaatatggatagctattacccacata\n",
      "001d.00.130b.005+1,e78b6fe11008bfac926647fbbff296bd      tttcagttggctcctga--gtttatgttaatttttaatatggatagctattacccacata\n",
      "001d.00.130b.006+1,bd55dea1d19c29ba24d5b9ca2fe88135      tttcagttggctcctgagtttatgtgttaatttttaatatggatagctattacccacata\n",
      "001d.00.130b.007+1,7966b965d3e75dd363393fa87a1ee740      tttcagttggctcctgagtttatgtgttaatttttaatatggatagctattacccacata\n",
      "                                                         *****************   * * ************************************\n",
      "\n",
      "\n",
      "001d.00.130b.000+1,a1b6e9164a40841124574fb0909c63d6      aacaaaagctctttggggtccttgataatttgtgagtgtaaagaggtcctgagaccaaaa\n",
      "001d.00.130b.001+1,d9c4f3e9e53ef5ee95865ced96646399      aacaaaagctctttggtgtccttgataatttgtgagtgtaaagaggtcctgagaccaaaa\n",
      "001d.00.130b.002+1,d980c7dfe24633dea10a1e901b14c9aa      aacaaaagctctttggggtccttgataatttgtgagtgtaaagaggtcctgagaccaaaa\n",
      "001d.00.130b.003+1,734bd195e14beb3cd9753fb6221864de      aacaaaagctctttggggtccttgataatttgtgagtgtaaagaggtcctgagaccaaaa\n",
      "001d.00.130b.004+1,a53d9152166bcbb638edf9175d4d5941      aacaaaagctctttggtgtccttgataatttgtgagtgtaaagaggtcctgagaccaaaa\n",
      "001d.00.130b.005+1,e78b6fe11008bfac926647fbbff296bd      aacaaaagctctttggggtccttgataatttgtgagtgtaaagaggtcctgagaccaaaa\n",
      "001d.00.130b.006+1,bd55dea1d19c29ba24d5b9ca2fe88135      aacaaaagctctttggggtccttgataatttgtgagtgtaaagaggtcctgagaccaaaa\n",
      "001d.00.130b.007+1,7966b965d3e75dd363393fa87a1ee740      aacaaaagctctttggggtccttgataatttgtgagtgtaaagaggtcctgagaccaaaa\n",
      "                                                         **************** *******************************************\n",
      "\n",
      "\n",
      "001d.00.130b.000+1,a1b6e9164a40841124574fb0909c63d6      tgtttgagaaccaccgctctagggatcctctggctgacccgaatccccggtgtgtgtgcg\n",
      "001d.00.130b.001+1,d9c4f3e9e53ef5ee95865ced96646399      tgtttgagaaccaccgctctagggatcctctggctgacccgaatccccggtgtgtgtgcg\n",
      "001d.00.130b.002+1,d980c7dfe24633dea10a1e901b14c9aa      tgtttgagaaccaccgctctagggatcctctggctgacccgaatccccggtgtgtgtgag\n",
      "001d.00.130b.003+1,734bd195e14beb3cd9753fb6221864de      tgtttgagaaccaccgctctagggatcctctggctgacccgaatccccggtgtgtgtgcg\n",
      "001d.00.130b.004+1,a53d9152166bcbb638edf9175d4d5941      tgtttgagaaccaccgctctagggatcctctggctgacccgaatccccggtgtgtgtgag\n",
      "001d.00.130b.005+1,e78b6fe11008bfac926647fbbff296bd      tgtttgagaaccaccgctctagggatcctctggctgacccgaatccccggtgtgtgtgag\n",
      "001d.00.130b.006+1,bd55dea1d19c29ba24d5b9ca2fe88135      tgtttgagaaccaccgctctagggatcctctggctgacccgaatccccggtgtgtgtgcg\n",
      "001d.00.130b.007+1,7966b965d3e75dd363393fa87a1ee740      tgtttgagaaccaccgctctagggatcctctggctgacccgaatccccggtgtgtgtgaa\n",
      "                                                         **********************************************************  \n",
      "\n",
      "\n",
      "001d.00.130b.000+1,a1b6e9164a40841124574fb0909c63d6      cgcttcgtctgcaggtaggagttgtggtctggacagaagcaaagtaggccacactcgcct\n",
      "001d.00.130b.001+1,d9c4f3e9e53ef5ee95865ced96646399      cgcttcgtctgcaggtaggagttgtggtctggacagaagcaaagtaggccacactcgcct\n",
      "001d.00.130b.002+1,d980c7dfe24633dea10a1e901b14c9aa      cgcttcgtctgcaggtaggagttgtggtctggacagaagcaaagtaggccacactcgcct\n",
      "001d.00.130b.003+1,734bd195e14beb3cd9753fb6221864de      cgcttcgtctgcaggtaggagttgtggtctggacacaagcaaagtaggccacactcgcct\n",
      "001d.00.130b.004+1,a53d9152166bcbb638edf9175d4d5941      cgcttcgtctgcaggtaggagttgtggtctggacagaagcaaagtaggccacactcgcct\n",
      "001d.00.130b.005+1,e78b6fe11008bfac926647fbbff296bd      cgcttcgtctgcaggtaggagttgtggtctggacacaagcaaagtaggccacactcgcct\n",
      "001d.00.130b.006+1,bd55dea1d19c29ba24d5b9ca2fe88135      cgcttcgtctgcaggtaggagttgtggtctggacagaagcaaagtaggccacactcgcct\n",
      "001d.00.130b.007+1,7966b965d3e75dd363393fa87a1ee740      aaaatcgtctgcaggtaggagttgtggtctggacagaagcaaagtaggccacactcgcct\n",
      "                                                             ******************************* ************************\n",
      "\n",
      "\n",
      "001d.00.130b.000+1,a1b6e9164a40841124574fb0909c63d6      gcccttgggaa\n",
      "001d.00.130b.001+1,d9c4f3e9e53ef5ee95865ced96646399      gcccttgggaa\n",
      "001d.00.130b.002+1,d980c7dfe24633dea10a1e901b14c9aa      gcccttgggaa\n",
      "001d.00.130b.003+1,734bd195e14beb3cd9753fb6221864de      gcccttgggaa\n",
      "001d.00.130b.004+1,a53d9152166bcbb638edf9175d4d5941      gcccttgggaa\n",
      "001d.00.130b.005+1,e78b6fe11008bfac926647fbbff296bd      gcccttgggaa\n",
      "001d.00.130b.006+1,bd55dea1d19c29ba24d5b9ca2fe88135      gcccttgggaa\n",
      "001d.00.130b.007+1,7966b965d3e75dd363393fa87a1ee740      gcccttgggaa\n",
      "                                                         ***********\n",
      "\n",
      "\n",
      "Variant diffs:\n",
      "\n",
      "Position range on chromosome: 18-20, index range: 113044271-113044273\n",
      "\n",
      "Position on chromosome: 22, index of diff: 113044275\n",
      "\n",
      "Position on chromosome: 24, index of diff: 113044277\n",
      "\n",
      "Position on chromosome: 77, index of diff: 113044330\n",
      "\n",
      "Position range on chromosome: 179-184, index range: 113044432-113044437\n",
      "\n",
      "Position on chromosome: 216, index of diff: 113044469\n",
      "\n",
      "Finished search for tile 100000\n",
      "\n"
     ]
    }
   ],
   "source": [
    "info = getTileVariants.tile_iteration(tile)"
   ]
  },
  {
   "cell_type": "code",
   "execution_count": 92,
   "metadata": {
    "scrolled": false
   },
   "outputs": [
    {
     "data": {
      "text/plain": [
       "{'chrom': '1',\n",
       " 'path': '001d',\n",
       " 'position_end': '113044502',\n",
       " 'position_start': '113044277',\n",
       " 'step': '130b'}"
      ]
     },
     "execution_count": 92,
     "metadata": {},
     "output_type": "execute_result"
    }
   ],
   "source": [
    "info.to_dict() # add stop and end"
   ]
  },
  {
   "cell_type": "code",
   "execution_count": 93,
   "metadata": {
    "collapsed": true
   },
   "outputs": [],
   "source": [
    "variants_all = info.variants.split('\\n')[:-1]"
   ]
  },
  {
   "cell_type": "code",
   "execution_count": 94,
   "metadata": {
    "scrolled": true
   },
   "outputs": [
    {
     "data": {
      "text/plain": [
       "[['001d.00.130b.000+1',\n",
       "  'a1b6e9164a40841124574fb0909c63d6',\n",
       "  'tttcagttggctcctgagtttatgttaatttttaatatggatagctattacccacataaacaaaagctctttggggtccttgataatttgtgagtgtaaagaggtcctgagaccaaaatgtttgagaaccaccgctctagggatcctctggctgacccgaatccccggtgtgtgtgcgcgcttcgtctgcaggtaggagttgtggtctggacagaagcaaagtaggccacactcgcctgcccttgggaa'],\n",
       " ['001d.00.130b.001+1',\n",
       "  'd9c4f3e9e53ef5ee95865ced96646399',\n",
       "  'tttcagttggctcctgagtttatgttaatttttaatatggatagctattacccacataaacaaaagctctttggtgtccttgataatttgtgagtgtaaagaggtcctgagaccaaaatgtttgagaaccaccgctctagggatcctctggctgacccgaatccccggtgtgtgtgcgcgcttcgtctgcaggtaggagttgtggtctggacagaagcaaagtaggccacactcgcctgcccttgggaa'],\n",
       " ['001d.00.130b.002+1',\n",
       "  'd980c7dfe24633dea10a1e901b14c9aa',\n",
       "  'tttcagttggctcctgagtttatgttaatttttaatatggatagctattacccacataaacaaaagctctttggggtccttgataatttgtgagtgtaaagaggtcctgagaccaaaatgtttgagaaccaccgctctagggatcctctggctgacccgaatccccggtgtgtgtgagcgcttcgtctgcaggtaggagttgtggtctggacagaagcaaagtaggccacactcgcctgcccttgggaa'],\n",
       " ['001d.00.130b.003+1',\n",
       "  '734bd195e14beb3cd9753fb6221864de',\n",
       "  'tttcagttggctcctgagtttatgttaatttttaatatggatagctattacccacataaacaaaagctctttggggtccttgataatttgtgagtgtaaagaggtcctgagaccaaaatgtttgagaaccaccgctctagggatcctctggctgacccgaatccccggtgtgtgtgcgcgcttcgtctgcaggtaggagttgtggtctggacacaagcaaagtaggccacactcgcctgcccttgggaa'],\n",
       " ['001d.00.130b.004+1',\n",
       "  'a53d9152166bcbb638edf9175d4d5941',\n",
       "  'tttcagttggctcctgagtttatgttaatttttaatatggatagctattacccacataaacaaaagctctttggtgtccttgataatttgtgagtgtaaagaggtcctgagaccaaaatgtttgagaaccaccgctctagggatcctctggctgacccgaatccccggtgtgtgtgagcgcttcgtctgcaggtaggagttgtggtctggacagaagcaaagtaggccacactcgcctgcccttgggaa'],\n",
       " ['001d.00.130b.005+1',\n",
       "  'e78b6fe11008bfac926647fbbff296bd',\n",
       "  'tttcagttggctcctgagtttatgttaatttttaatatggatagctattacccacataaacaaaagctctttggggtccttgataatttgtgagtgtaaagaggtcctgagaccaaaatgtttgagaaccaccgctctagggatcctctggctgacccgaatccccggtgtgtgtgagcgcttcgtctgcaggtaggagttgtggtctggacacaagcaaagtaggccacactcgcctgcccttgggaa'],\n",
       " ['001d.00.130b.006+1',\n",
       "  'bd55dea1d19c29ba24d5b9ca2fe88135',\n",
       "  'tttcagttggctcctgagtttatgtgttaatttttaatatggatagctattacccacataaacaaaagctctttggggtccttgataatttgtgagtgtaaagaggtcctgagaccaaaatgtttgagaaccaccgctctagggatcctctggctgacccgaatccccggtgtgtgtgcgcgcttcgtctgcaggtaggagttgtggtctggacagaagcaaagtaggccacactcgcctgcccttgggaa'],\n",
       " ['001d.00.130b.007+1',\n",
       "  '7966b965d3e75dd363393fa87a1ee740',\n",
       "  'tttcagttggctcctgagtttatgtgttaatttttaatatggatagctattacccacataaacaaaagctctttggggtccttgataatttgtgagtgtaaagaggtcctgagaccaaaatgtttgagaaccaccgctctagggatcctctggctgacccgaatccccggtgtgtgtgaaaaaatcgtctgcaggtaggagttgtggtctggacagaagcaaagtaggccacactcgcctgcccttgggaa']]"
      ]
     },
     "execution_count": 94,
     "metadata": {},
     "output_type": "execute_result"
    }
   ],
   "source": [
    "variants = [variant.split(\",\") for variant in variants_all]\n",
    "variants"
   ]
  },
  {
   "cell_type": "code",
   "execution_count": 158,
   "metadata": {
    "scrolled": true
   },
   "outputs": [
    {
     "name": "stdout",
     "output_type": "stream",
     "text": [
      "{'001d.00.130b.003+1,734bd195e14beb3cd9753fb6221864de': 'tttcagttggctcctga--gtttatgttaatttttaatatggatagctattacccacataaacaaaagctctttggggtccttgataatttgtgagtgtaaagaggtcctgagaccaaaatgtttgagaaccaccgctctagggatcctctggctgacccgaatccccggtgtgtgtgcgcgcttcgtctgcaggtaggagttgtggtctggacacaagcaaagtaggccacactcgcctgcccttgggaa', '001d.00.130b.007+1,7966b965d3e75dd363393fa87a1ee740': 'tttcagttggctcctgagtttatgtgttaatttttaatatggatagctattacccacataaacaaaagctctttggggtccttgataatttgtgagtgtaaagaggtcctgagaccaaaatgtttgagaaccaccgctctagggatcctctggctgacccgaatccccggtgtgtgtgaaaaaatcgtctgcaggtaggagttgtggtctggacagaagcaaagtaggccacactcgcctgcccttgggaa', '001d.00.130b.004+1,a53d9152166bcbb638edf9175d4d5941': 'tttcagttggctcctga--gtttatgttaatttttaatatggatagctattacccacataaacaaaagctctttggtgtccttgataatttgtgagtgtaaagaggtcctgagaccaaaatgtttgagaaccaccgctctagggatcctctggctgacccgaatccccggtgtgtgtgagcgcttcgtctgcaggtaggagttgtggtctggacagaagcaaagtaggccacactcgcctgcccttgggaa', '001d.00.130b.002+1,d980c7dfe24633dea10a1e901b14c9aa': 'tttcagttggctcctga--gtttatgttaatttttaatatggatagctattacccacataaacaaaagctctttggggtccttgataatttgtgagtgtaaagaggtcctgagaccaaaatgtttgagaaccaccgctctagggatcctctggctgacccgaatccccggtgtgtgtgagcgcttcgtctgcaggtaggagttgtggtctggacagaagcaaagtaggccacactcgcctgcccttgggaa', '001d.00.130b.006+1,bd55dea1d19c29ba24d5b9ca2fe88135': 'tttcagttggctcctgagtttatgtgttaatttttaatatggatagctattacccacataaacaaaagctctttggggtccttgataatttgtgagtgtaaagaggtcctgagaccaaaatgtttgagaaccaccgctctagggatcctctggctgacccgaatccccggtgtgtgtgcgcgcttcgtctgcaggtaggagttgtggtctggacagaagcaaagtaggccacactcgcctgcccttgggaa', '001d.00.130b.001+1,d9c4f3e9e53ef5ee95865ced96646399': 'tttcagttggctcctga--gtttatgttaatttttaatatggatagctattacccacataaacaaaagctctttggtgtccttgataatttgtgagtgtaaagaggtcctgagaccaaaatgtttgagaaccaccgctctagggatcctctggctgacccgaatccccggtgtgtgtgcgcgcttcgtctgcaggtaggagttgtggtctggacagaagcaaagtaggccacactcgcctgcccttgggaa', '001d.00.130b.005+1,e78b6fe11008bfac926647fbbff296bd': 'tttcagttggctcctga--gtttatgttaatttttaatatggatagctattacccacataaacaaaagctctttggggtccttgataatttgtgagtgtaaagaggtcctgagaccaaaatgtttgagaaccaccgctctagggatcctctggctgacccgaatccccggtgtgtgtgagcgcttcgtctgcaggtaggagttgtggtctggacacaagcaaagtaggccacactcgcctgcccttgggaa', '001d.00.130b.000+1,a1b6e9164a40841124574fb0909c63d6': 'tttcagttggctcctga--gtttatgttaatttttaatatggatagctattacccacataaacaaaagctctttggggtccttgataatttgtgagtgtaaagaggtcctgagaccaaaatgtttgagaaccaccgctctagggatcctctggctgacccgaatccccggtgtgtgtgcgcgcttcgtctgcaggtaggagttgtggtctggacagaagcaaagtaggccacactcgcctgcccttgggaa'}\n"
     ]
    }
   ],
   "source": [
    "variants_dict = {}\n",
    "for i in info.clustalo_entries:\n",
    "    for variant_part in i[:-1]:\n",
    "        line = filter(lambda x: x != \"\", variant_part.split(\" \"))\n",
    "        if line[0] not in variants_dict:\n",
    "            variants_dict[line[0]] = [line[1]]\n",
    "        else:\n",
    "            variants_dict[line[0]].append(line[1])\n",
    "for variant_part in variants_dict:\n",
    "    variants_dict[variant_part] = \"\".join(variants_dict[variant_part])\n",
    "print(variants_dict)"
   ]
  },
  {
   "cell_type": "code",
   "execution_count": 119,
   "metadata": {},
   "outputs": [
    {
     "data": {
      "text/plain": [
       "['001d.00.130b.000+1,a1b6e9164a40841124574fb0909c63d6      tttcagttggctcctga--gtttatgttaatttttaatatggatagctattacccacata',\n",
       " '001d.00.130b.001+1,d9c4f3e9e53ef5ee95865ced96646399      tttcagttggctcctga--gtttatgttaatttttaatatggatagctattacccacata',\n",
       " '001d.00.130b.002+1,d980c7dfe24633dea10a1e901b14c9aa      tttcagttggctcctga--gtttatgttaatttttaatatggatagctattacccacata',\n",
       " '001d.00.130b.003+1,734bd195e14beb3cd9753fb6221864de      tttcagttggctcctga--gtttatgttaatttttaatatggatagctattacccacata',\n",
       " '001d.00.130b.004+1,a53d9152166bcbb638edf9175d4d5941      tttcagttggctcctga--gtttatgttaatttttaatatggatagctattacccacata',\n",
       " '001d.00.130b.005+1,e78b6fe11008bfac926647fbbff296bd      tttcagttggctcctga--gtttatgttaatttttaatatggatagctattacccacata',\n",
       " '001d.00.130b.006+1,bd55dea1d19c29ba24d5b9ca2fe88135      tttcagttggctcctgagtttatgtgttaatttttaatatggatagctattacccacata',\n",
       " '001d.00.130b.007+1,7966b965d3e75dd363393fa87a1ee740      tttcagttggctcctgagtttatgtgttaatttttaatatggatagctattacccacata',\n",
       " '                                                         *****************   * * ************************************']"
      ]
     },
     "execution_count": 119,
     "metadata": {},
     "output_type": "execute_result"
    }
   ],
   "source": [
    "info.clustalo_entries[0]"
   ]
  },
  {
   "cell_type": "code",
   "execution_count": 107,
   "metadata": {
    "scrolled": true
   },
   "outputs": [
    {
     "name": "stdout",
     "output_type": "stream",
     "text": [
      "Difference range: (18, 20)\n",
      "ctgagtttatgt\n",
      "ttt\n",
      "\n",
      "ctgagtttatgt\n",
      "ttt\n",
      "\n",
      "ctgagtttatgt\n",
      "ttt\n",
      "\n",
      "ctgagtttatgt\n",
      "ttt\n",
      "\n",
      "ctgagtttatgt\n",
      "ttt\n",
      "\n",
      "ctgagtttatgt\n",
      "ttt\n",
      "\n",
      "ctgagtttatgt\n",
      "ttt\n",
      "\n",
      "ctgagtttatgt\n",
      "ttt\n",
      "\n",
      "(77, 113044330, '001d.00.130b.006+1', 'T>G')\n",
      "(77, 113044330, '001d.00.130b.007+1', 'T>G')\n",
      "Difference range: (179, 184)\n",
      "tgcgcgcttcgtctg\n",
      "gcttcg\n",
      "\n",
      "tgcgcgcttcgtctg\n",
      "gcttcg\n",
      "\n",
      "tgagcgcttcgtctg\n",
      "gcttcg\n",
      "\n",
      "tgcgcgcttcgtctg\n",
      "gcttcg\n",
      "\n",
      "tgagcgcttcgtctg\n",
      "gcttcg\n",
      "\n",
      "tgagcgcttcgtctg\n",
      "gcttcg\n",
      "\n",
      "tgtgcgcgcttcgtc\n",
      "gcgctt\n",
      "\n",
      "tgtgaaaaaatcgtc\n",
      "aaaaat\n",
      "\n",
      "(216, 113044469, '001d.00.130b.006+1', 'A>G')\n",
      "(216, 113044469, '001d.00.130b.007+1', 'A>G')\n"
     ]
    }
   ],
   "source": [
    "for diff_info in info.diffs_map:\n",
    "    # get the letter corresponding to the differing indices in the variants\n",
    "    sequences = [variant[2] for variant in variants]\n",
    "    ids = [variant[0] for variant in variants]\n",
    "    diff_letters = []\n",
    "    # print out snp and details of snp\n",
    "    if type(diff_info[0]) == int:\n",
    "        diff_idx = diff_info[0]\n",
    "        diff_pos = diff_info[1]\n",
    "        for sequence in sequences:\n",
    "            if diff_idx >= len(sequence):\n",
    "                diff_letters.append(\"_\")\n",
    "            else:\n",
    "                diff_letters.append(sequence[diff_idx - 1])\n",
    "\n",
    "        for i, letter in enumerate(diff_letters[1:]):\n",
    "            if letter != diff_letters[0] and diff_letters[0] != '_':\n",
    "                print(diff_idx, diff_pos, ids[i + 1], diff_letters[0].upper() + \">\" + letter.upper())\n",
    "    else:\n",
    "        # handle difference range - spanning tiles or long INDELs\n",
    "        diff_start = diff_info[0][0]\n",
    "        diff_end = diff_info[0][1]\n",
    "        diff_pos = diff_info[1]\n",
    "        print(\"Difference range: {}\".format(diff_info[0]))\n",
    "        for i, sequence in enumerate(sequences):\n",
    "            if diff_start > len(sequence):\n",
    "                # the diff index is representing a spanning tile but the sequence is not spanning\n",
    "                # in this case, do not print anything because the diff index does not mean anything\n",
    "                pass\n",
    "            elif int(ids[i].split(\"+\")[1]) > 1:\n",
    "                # spanning tile. print range\n",
    "                print(\"spanning\", ids[i])\n",
    "            else:\n",
    "                # sequence is not spanning and diff index is not representing spanning.\n",
    "                print(sequence[diff_start - 5:diff_end + 5])\n",
    "                print(sequence[diff_start:diff_end + 1])\n",
    "                print"
   ]
  },
  {
   "cell_type": "code",
   "execution_count": 42,
   "metadata": {
    "collapsed": true
   },
   "outputs": [],
   "source": [
    "first_seq = variants[3][2]\n",
    "second_seq = variants[4][2]"
   ]
  },
  {
   "cell_type": "code",
   "execution_count": null,
   "metadata": {
    "collapsed": true
   },
   "outputs": [],
   "source": []
  }
 ],
 "metadata": {
  "kernelspec": {
   "display_name": "Python 2",
   "language": "python",
   "name": "python2"
  },
  "language_info": {
   "codemirror_mode": {
    "name": "ipython",
    "version": 2
   },
   "file_extension": ".py",
   "mimetype": "text/x-python",
   "name": "python",
   "nbconvert_exporter": "python",
   "pygments_lexer": "ipython2",
   "version": "2.7.12"
  }
 },
 "nbformat": 4,
 "nbformat_minor": 2
}
