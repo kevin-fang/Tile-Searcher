{
 "cells": [
  {
   "cell_type": "code",
   "execution_count": 1,
   "metadata": {
    "collapsed": true
   },
   "outputs": [],
   "source": [
    "import application, getTileVariants\n",
    "from __future__ import print_function"
   ]
  },
  {
   "cell_type": "code",
   "execution_count": 2,
   "metadata": {
    "collapsed": true
   },
   "outputs": [],
   "source": [
    "tile = application.Tile(1792420)"
   ]
  },
  {
   "cell_type": "code",
   "execution_count": 3,
   "metadata": {
    "scrolled": true
   },
   "outputs": [
    {
     "name": "stdout",
     "output_type": "stream",
     "text": [
      "Tile 1792420 information:\n",
      "hg19:chr15:0288\t99840\t132519571\t15\t16\n",
      "Path: 0288\n",
      "Step: 0415\n",
      "Phase: 0x0\n",
      "\n",
      "0414\t  28365579\n",
      "0415\t  28365804\n",
      "\n",
      "0288.00.0415.000+1,1db2677afc28b28828c3054d87fe76eb      ttgttcttcatggctctctgtgtctgatccaagaggcgaggccagtttcatttgagcatt\n",
      "0288.00.0415.001+1,8b9ec6ba1f92704ce2a1e9ea48a5e7ac      ttgttcttcatggctctctgtgtctgatccaagaggcgaggccagtttcatttgagcatt\n",
      "0288.00.0415.002+1,aef8b22206d0d4990d241df5ba77569e      ttgttcttcatggctctctgtgtctgatccaagaggcgaggccagtttcatttgagcatt\n",
      "0288.00.0415.003+1,7f256b514ed48a866817b176873d9c1c      ttgttcttcatggctctctgtgtctgatccaagaggcgaggccagtttcatttgagcatt\n",
      "0288.00.0415.004+1,f93f2543c4008ae74975924fcaeb9ea5      ttgttcttcatggctctctgtgtctgatccaagaggcgaggccagtttcatttgagcatt\n",
      "0288.00.0415.005+1,c8fb0f6fd3fb02b5a3b93bd7e1590079      ttgttcttcatggctctctgtgtctgatccaagaggcgaggccagtttcatttgagcatt\n",
      "                                                         ************************************************************\n",
      "\n",
      "\n",
      "0288.00.0415.000+1,1db2677afc28b28828c3054d87fe76eb      aaatgtcaagttctgcacgctatcatcatcaggggccgaggcttctctttgtttttaatt\n",
      "0288.00.0415.001+1,8b9ec6ba1f92704ce2a1e9ea48a5e7ac      aagtgtcaagttctgcacgctatcatcatcaggggccgaggcttctctttgtttttaatt\n",
      "0288.00.0415.002+1,aef8b22206d0d4990d241df5ba77569e      aaatgtcaagttctgcacgctatcatcatcaggggccgaggcttctctttgtttttaatt\n",
      "0288.00.0415.003+1,7f256b514ed48a866817b176873d9c1c      aagtgtcaagttctgcacgctatcatcatcaggggccgaggcttctctttgtttttaatt\n",
      "0288.00.0415.004+1,f93f2543c4008ae74975924fcaeb9ea5      aaatgtcaagttctgcacgctgtcatcatcaggggccgaggcttctctttgtttttaatt\n",
      "0288.00.0415.005+1,c8fb0f6fd3fb02b5a3b93bd7e1590079      aagtgtcaagttctgcacgctatcatcatcaggggccgaggcttctctttgtttttaatt\n",
      "                                                         ** ****************** **************************************\n",
      "\n",
      "\n",
      "0288.00.0415.000+1,1db2677afc28b28828c3054d87fe76eb      aattgtttttaactgtgagtttatatacacttgaagcagtatacatttagaaatggtcta\n",
      "0288.00.0415.001+1,8b9ec6ba1f92704ce2a1e9ea48a5e7ac      aattgtttttaactgtgagtttatatacacttgaagcagtatacatttagaaatggtcta\n",
      "0288.00.0415.002+1,aef8b22206d0d4990d241df5ba77569e      aattgtttttaactgtgagtttatatacacttgaagcagtatacatttagaaatggtata\n",
      "0288.00.0415.003+1,7f256b514ed48a866817b176873d9c1c      aattgtttttaactgtgagtttatatacacttgaagcagtatacatttagaaatggtata\n",
      "0288.00.0415.004+1,f93f2543c4008ae74975924fcaeb9ea5      aattgtttttaactgtgagtttatatacacttgaagcagtatacatttagaaatggtcta\n",
      "0288.00.0415.005+1,c8fb0f6fd3fb02b5a3b93bd7e1590079      aattgtttttaactgtgggtttatatacacttgaagcagtatacatttagaaatggtata\n",
      "                                                         ***************** *************************************** **\n",
      "\n",
      "\n",
      "0288.00.0415.000+1,1db2677afc28b28828c3054d87fe76eb      cttgtcgtttctttgattactacccatgagacagtattagtaattctggcctatgaaatt\n",
      "0288.00.0415.001+1,8b9ec6ba1f92704ce2a1e9ea48a5e7ac      cttgtcgtttctttgattactacccatgagacagtattagtaattctggcctatgaaatt\n",
      "0288.00.0415.002+1,aef8b22206d0d4990d241df5ba77569e      cttgtcgtttctttgattactacccatgagacagtattagtaattctggcctatgaaatt\n",
      "0288.00.0415.003+1,7f256b514ed48a866817b176873d9c1c      cttgtcgtttctttgattactacccatgagacagtattagtaattctggcctatgaaatt\n",
      "0288.00.0415.004+1,f93f2543c4008ae74975924fcaeb9ea5      cttgtcgtttctttgattactacccatgagacagtattagtaattctggcctatgaaatt\n",
      "0288.00.0415.005+1,c8fb0f6fd3fb02b5a3b93bd7e1590079      cttgtcgtttctttgattactacccatgagacagtattagtaattctggcctatgaaatt\n",
      "                                                         ************************************************************\n",
      "\n",
      "\n",
      "0288.00.0415.000+1,1db2677afc28b28828c3054d87fe76eb      ggcaaagaa\n",
      "0288.00.0415.001+1,8b9ec6ba1f92704ce2a1e9ea48a5e7ac      ggcaaagaa\n",
      "0288.00.0415.002+1,aef8b22206d0d4990d241df5ba77569e      ggcaaagaa\n",
      "0288.00.0415.003+1,7f256b514ed48a866817b176873d9c1c      ggcaaagaa\n",
      "0288.00.0415.004+1,f93f2543c4008ae74975924fcaeb9ea5      ggcaaagaa\n",
      "0288.00.0415.005+1,c8fb0f6fd3fb02b5a3b93bd7e1590079      ggcaaagaa\n",
      "                                                         *********\n",
      "\n",
      "\n",
      "Variant diffs:\n",
      "\n",
      "Position on chromosome: 63, index of diff: 28365618\n",
      "\n",
      "Position on chromosome: 82, index of diff: 28365637\n",
      "\n",
      "Position on chromosome: 138, index of diff: 28365693\n",
      "\n",
      "Position on chromosome: 178, index of diff: 28365733\n",
      "\n",
      "Finished search for tile 1792420\n",
      "\n"
     ]
    }
   ],
   "source": [
    "info = getTileVariants.tile_iteration(tile, print)"
   ]
  },
  {
   "cell_type": "code",
   "execution_count": 4,
   "metadata": {
    "scrolled": true
   },
   "outputs": [
    {
     "data": {
      "text/plain": [
       "{'chrom': '15', 'path': '0288', 'position': '28365579', 'step': '0415'}"
      ]
     },
     "execution_count": 4,
     "metadata": {},
     "output_type": "execute_result"
    }
   ],
   "source": [
    "info.to_dict()"
   ]
  },
  {
   "cell_type": "code",
   "execution_count": 60,
   "metadata": {},
   "outputs": [],
   "source": [
    "def to_dict(tile):\n",
    "    info_dict = {}\n",
    "    info_dict['step'] = tile.step\n",
    "    info_dict['path'] = tile.path\n",
    "    info_dict['chrom'] = tile.tile_str.split(\":\")[1]\n",
    "    tile_location = tile.bp_output.split(\"\\n\")\n",
    "    info_dict['position'] = tile_location[0].split('\\t')[1].strip()\n",
    "    return info_dict"
   ]
  },
  {
   "cell_type": "code",
   "execution_count": 61,
   "metadata": {},
   "outputs": [
    {
     "name": "stdout",
     "output_type": "stream",
     "text": [
      "{'path': '0288', 'step': '0415', 'chrom': 'chr15', 'position': '28365579'}\n"
     ]
    }
   ],
   "source": [
    "print(to_dict(info))"
   ]
  },
  {
   "cell_type": "code",
   "execution_count": 37,
   "metadata": {},
   "outputs": [
    {
     "data": {
      "text/plain": [
       "'chr1'"
      ]
     },
     "execution_count": 37,
     "metadata": {},
     "output_type": "execute_result"
    }
   ],
   "source": []
  },
  {
   "cell_type": "code",
   "execution_count": null,
   "metadata": {
    "collapsed": true
   },
   "outputs": [],
   "source": []
  }
 ],
 "metadata": {
  "kernelspec": {
   "display_name": "Python 2",
   "language": "python",
   "name": "python2"
  },
  "language_info": {
   "codemirror_mode": {
    "name": "ipython",
    "version": 2
   },
   "file_extension": ".py",
   "mimetype": "text/x-python",
   "name": "python",
   "nbconvert_exporter": "python",
   "pygments_lexer": "ipython2",
   "version": "2.7.12"
  }
 },
 "nbformat": 4,
 "nbformat_minor": 2
}
