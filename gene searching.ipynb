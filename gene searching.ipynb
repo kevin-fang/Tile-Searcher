{
 "cells": [
  {
   "cell_type": "code",
   "execution_count": 10,
   "metadata": {
    "collapsed": true
   },
   "outputs": [],
   "source": [
    "import subprocess\n",
    "# chromosome and position and it checks for the particular position\n",
    "checkstr = \"9:136139786-136140011\"\n",
    "# chromosome:position\n",
    "# chr:from-to\n",
    "# 9:136139786-136140011\n",
    "outputzip = \"/home/kfang/keep/by_id/su92l-4zz18-v96bt8gwbsini81/All_20170710.vcf.gz\""
   ]
  },
  {
   "cell_type": "code",
   "execution_count": 11,
   "metadata": {},
   "outputs": [],
   "source": [
    "bcfstr = 'bcftools query -f' + ' \\'%CHROM %POS[\\\\t%GT]\\\\n\\'' + ' -r ' + checkstr + ' ' + outputzip"
   ]
  },
  {
   "cell_type": "code",
   "execution_count": 12,
   "metadata": {},
   "outputs": [],
   "source": [
    "resultquery = subprocess.check_output(bcfstr,shell=True)"
   ]
  },
  {
   "cell_type": "code",
   "execution_count": 14,
   "metadata": {},
   "outputs": [
    {
     "name": "stdout",
     "output_type": "stream",
     "text": [
      "9 136139812\n",
      "9 136139833\n",
      "9 136139863\n",
      "9 136139864\n",
      "9 136139873\n",
      "9 136139907\n",
      "9 136139907\n",
      "9 136139907\n",
      "9 136139913\n",
      "9 136139914\n",
      "9 136139955\n",
      "9 136139961\n",
      "9 136139967\n",
      "9 136139968\n",
      "\n"
     ]
    }
   ],
   "source": [
    "print(resultquery)"
   ]
  },
  {
   "cell_type": "code",
   "execution_count": null,
   "metadata": {
    "collapsed": true
   },
   "outputs": [],
   "source": [
    "\"\"\"\n",
    "Bed file is position where the genes happen\n",
    "Have to subtract by 1\n",
    "\"\"\""
   ]
  }
 ],
 "metadata": {
  "kernelspec": {
   "display_name": "Python 2",
   "language": "python",
   "name": "python2"
  },
  "language_info": {
   "codemirror_mode": {
    "name": "ipython",
    "version": 2
   },
   "file_extension": ".py",
   "mimetype": "text/x-python",
   "name": "python",
   "nbconvert_exporter": "python",
   "pygments_lexer": "ipython2",
   "version": "2.7.12"
  }
 },
 "nbformat": 4,
 "nbformat_minor": 2
}
